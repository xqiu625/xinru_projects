{
 "cells": [
  {
   "cell_type": "markdown",
   "metadata": {},
   "source": [
    "## Load Data and Data Cleaning "
   ]
  },
  {
   "cell_type": "code",
   "execution_count": 1,
   "metadata": {
    "collapsed": false
   },
   "outputs": [
    {
     "name": "stderr",
     "output_type": "stream",
     "text": [
      "/Users/cindyqiu/anaconda/lib/python2.7/site-packages/sklearn/cross_validation.py:44: DeprecationWarning: This module was deprecated in version 0.18 in favor of the model_selection module into which all the refactored classes and functions are moved. Also note that the interface of the new CV iterators are different from that of this module. This module will be removed in 0.20.\n",
      "  \"This module will be removed in 0.20.\", DeprecationWarning)\n",
      "/Users/cindyqiu/anaconda/lib/python2.7/site-packages/sklearn/grid_search.py:43: DeprecationWarning: This module was deprecated in version 0.18 in favor of the model_selection module into which all the refactored classes and functions are moved. This module will be removed in 0.20.\n",
      "  DeprecationWarning)\n"
     ]
    },
    {
     "data": {
      "text/html": [
       "<div>\n",
       "<table border=\"1\" class=\"dataframe\">\n",
       "  <thead>\n",
       "    <tr style=\"text-align: right;\">\n",
       "      <th></th>\n",
       "      <th>Age</th>\n",
       "      <th>Number of sexual partners</th>\n",
       "      <th>First sexual intercourse</th>\n",
       "      <th>Num of pregnancies</th>\n",
       "      <th>Smokes</th>\n",
       "      <th>Smokes (years)</th>\n",
       "      <th>Smokes (packs/year)</th>\n",
       "      <th>Hormonal Contraceptives</th>\n",
       "      <th>Hormonal Contraceptives (years)</th>\n",
       "      <th>IUD</th>\n",
       "      <th>...</th>\n",
       "      <th>STDs: Time since first diagnosis</th>\n",
       "      <th>STDs: Time since last diagnosis</th>\n",
       "      <th>Dx:Cancer</th>\n",
       "      <th>Dx:CIN</th>\n",
       "      <th>Dx:HPV</th>\n",
       "      <th>Dx</th>\n",
       "      <th>Hinselmann</th>\n",
       "      <th>Schiller</th>\n",
       "      <th>Citology</th>\n",
       "      <th>Biopsy</th>\n",
       "    </tr>\n",
       "  </thead>\n",
       "  <tbody>\n",
       "    <tr>\n",
       "      <th>0</th>\n",
       "      <td>18</td>\n",
       "      <td>4</td>\n",
       "      <td>15</td>\n",
       "      <td>1</td>\n",
       "      <td>0</td>\n",
       "      <td>0</td>\n",
       "      <td>0</td>\n",
       "      <td>0</td>\n",
       "      <td>0</td>\n",
       "      <td>0</td>\n",
       "      <td>...</td>\n",
       "      <td>?</td>\n",
       "      <td>?</td>\n",
       "      <td>0</td>\n",
       "      <td>0</td>\n",
       "      <td>0</td>\n",
       "      <td>0</td>\n",
       "      <td>0</td>\n",
       "      <td>0</td>\n",
       "      <td>0</td>\n",
       "      <td>0</td>\n",
       "    </tr>\n",
       "    <tr>\n",
       "      <th>1</th>\n",
       "      <td>15</td>\n",
       "      <td>1</td>\n",
       "      <td>14</td>\n",
       "      <td>1</td>\n",
       "      <td>0</td>\n",
       "      <td>0</td>\n",
       "      <td>0</td>\n",
       "      <td>0</td>\n",
       "      <td>0</td>\n",
       "      <td>0</td>\n",
       "      <td>...</td>\n",
       "      <td>?</td>\n",
       "      <td>?</td>\n",
       "      <td>0</td>\n",
       "      <td>0</td>\n",
       "      <td>0</td>\n",
       "      <td>0</td>\n",
       "      <td>0</td>\n",
       "      <td>0</td>\n",
       "      <td>0</td>\n",
       "      <td>0</td>\n",
       "    </tr>\n",
       "    <tr>\n",
       "      <th>2</th>\n",
       "      <td>34</td>\n",
       "      <td>1</td>\n",
       "      <td>?</td>\n",
       "      <td>1</td>\n",
       "      <td>0</td>\n",
       "      <td>0</td>\n",
       "      <td>0</td>\n",
       "      <td>0</td>\n",
       "      <td>0</td>\n",
       "      <td>0</td>\n",
       "      <td>...</td>\n",
       "      <td>?</td>\n",
       "      <td>?</td>\n",
       "      <td>0</td>\n",
       "      <td>0</td>\n",
       "      <td>0</td>\n",
       "      <td>0</td>\n",
       "      <td>0</td>\n",
       "      <td>0</td>\n",
       "      <td>0</td>\n",
       "      <td>0</td>\n",
       "    </tr>\n",
       "    <tr>\n",
       "      <th>3</th>\n",
       "      <td>52</td>\n",
       "      <td>5</td>\n",
       "      <td>16</td>\n",
       "      <td>4</td>\n",
       "      <td>1</td>\n",
       "      <td>37</td>\n",
       "      <td>37</td>\n",
       "      <td>1</td>\n",
       "      <td>3</td>\n",
       "      <td>0</td>\n",
       "      <td>...</td>\n",
       "      <td>?</td>\n",
       "      <td>?</td>\n",
       "      <td>1</td>\n",
       "      <td>0</td>\n",
       "      <td>1</td>\n",
       "      <td>0</td>\n",
       "      <td>0</td>\n",
       "      <td>0</td>\n",
       "      <td>0</td>\n",
       "      <td>0</td>\n",
       "    </tr>\n",
       "    <tr>\n",
       "      <th>4</th>\n",
       "      <td>46</td>\n",
       "      <td>3</td>\n",
       "      <td>21</td>\n",
       "      <td>4</td>\n",
       "      <td>0</td>\n",
       "      <td>0</td>\n",
       "      <td>0</td>\n",
       "      <td>1</td>\n",
       "      <td>15</td>\n",
       "      <td>0</td>\n",
       "      <td>...</td>\n",
       "      <td>?</td>\n",
       "      <td>?</td>\n",
       "      <td>0</td>\n",
       "      <td>0</td>\n",
       "      <td>0</td>\n",
       "      <td>0</td>\n",
       "      <td>0</td>\n",
       "      <td>0</td>\n",
       "      <td>0</td>\n",
       "      <td>0</td>\n",
       "    </tr>\n",
       "  </tbody>\n",
       "</table>\n",
       "<p>5 rows × 36 columns</p>\n",
       "</div>"
      ],
      "text/plain": [
       "   Age Number of sexual partners First sexual intercourse Num of pregnancies  \\\n",
       "0   18                         4                       15                  1   \n",
       "1   15                         1                       14                  1   \n",
       "2   34                         1                        ?                  1   \n",
       "3   52                         5                       16                  4   \n",
       "4   46                         3                       21                  4   \n",
       "\n",
       "  Smokes Smokes (years) Smokes (packs/year) Hormonal Contraceptives  \\\n",
       "0      0              0                   0                       0   \n",
       "1      0              0                   0                       0   \n",
       "2      0              0                   0                       0   \n",
       "3      1             37                  37                       1   \n",
       "4      0              0                   0                       1   \n",
       "\n",
       "  Hormonal Contraceptives (years) IUD  ...   STDs: Time since first diagnosis  \\\n",
       "0                               0   0  ...                                  ?   \n",
       "1                               0   0  ...                                  ?   \n",
       "2                               0   0  ...                                  ?   \n",
       "3                               3   0  ...                                  ?   \n",
       "4                              15   0  ...                                  ?   \n",
       "\n",
       "  STDs: Time since last diagnosis Dx:Cancer Dx:CIN Dx:HPV Dx Hinselmann  \\\n",
       "0                               ?         0      0      0  0          0   \n",
       "1                               ?         0      0      0  0          0   \n",
       "2                               ?         0      0      0  0          0   \n",
       "3                               ?         1      0      1  0          0   \n",
       "4                               ?         0      0      0  0          0   \n",
       "\n",
       "  Schiller Citology Biopsy  \n",
       "0        0        0      0  \n",
       "1        0        0      0  \n",
       "2        0        0      0  \n",
       "3        0        0      0  \n",
       "4        0        0      0  \n",
       "\n",
       "[5 rows x 36 columns]"
      ]
     },
     "execution_count": 1,
     "metadata": {},
     "output_type": "execute_result"
    }
   ],
   "source": [
    "import pandas as pd\n",
    "import numpy as np\n",
    "import scipy.stats as stats\n",
    "import matplotlib.pyplot as plt\n",
    "import seaborn as sns\n",
    "\n",
    "from sklearn.linear_model import LogisticRegression\n",
    "from sklearn.neighbors import KNeighborsClassifier\n",
    "from sklearn.ensemble import RandomForestClassifier, GradientBoostingClassifier\n",
    "from sklearn import svm\n",
    "from sklearn.preprocessing import StandardScaler, OneHotEncoder, LabelEncoder\n",
    "from sklearn.grid_search import GridSearchCV\n",
    "from sklearn.cross_validation import cross_val_score, cross_val_predict, train_test_split, StratifiedKFold\n",
    "from sklearn.metrics import roc_curve, auc, confusion_matrix, classification_report\n",
    "%matplotlib inline\n",
    "\n",
    "data = pd.read_csv(\"risk_factors_cervical_cancer.csv\")\n",
    "data.head()"
   ]
  },
  {
   "cell_type": "code",
   "execution_count": 2,
   "metadata": {
    "collapsed": false
   },
   "outputs": [
    {
     "data": {
      "text/plain": [
       "(858, 36)"
      ]
     },
     "execution_count": 2,
     "metadata": {},
     "output_type": "execute_result"
    }
   ],
   "source": [
    "data.shape"
   ]
  },
  {
   "cell_type": "markdown",
   "metadata": {},
   "source": [
    "#### Data Dictionary"
   ]
  },
  {
   "cell_type": "markdown",
   "metadata": {},
   "source": [
    "Data Set Information:\n",
    "\n",
    "The dataset was collected at 'Hospital Universitario de Caracas' in Caracas, Venezuela. The dataset comprises demographic information, habits, and historic medical records of 858 patients. Several patients decided not to answer some of the questions because of privacy concerns (missing values).\n",
    "\n",
    "\n",
    "Attribute Information:\n",
    "\n",
    "- (int) Age \n",
    "- (int) Number of sexual partners \n",
    "- (int) First sexual intercourse (age) \n",
    "- (int) Num of pregnancies \n",
    "- (bool) Smokes \n",
    "- (bool) Smokes (years) \n",
    "- (bool) Smokes (packs/year) \n",
    "- (bool) Hormonal Contraceptives \n",
    "- (int) Hormonal Contraceptives (years) \n",
    "- (bool) IUD \n",
    "- (int) IUD (years) \n",
    "- (bool) STDs \n",
    "- (int) STDs (number) \n",
    "- (bool) STDs:condylomatosis \n",
    "- (bool) STDs:cervical condylomatosis \n",
    "- (bool) STDs:vaginal condylomatosis \n",
    "- (bool) STDs:vulvo-perineal condylomatosis \n",
    "- (bool) STDs:syphilis \n",
    "- (bool) STDs:pelvic inflammatory disease \n",
    "- (bool) STDs:genital herpes \n",
    "- (bool) STDs:molluscum contagiosum \n",
    "- (bool) STDs:AIDS \n",
    "- (bool) STDs:HIV \n",
    "- (bool) STDs:Hepatitis B \n",
    "- (bool) STDs:HPV \n",
    "- (int) STDs: Number of diagnosis \n",
    "- (int) STDs: Time since first diagnosis \n",
    "- (int) STDs: Time since last diagnosis \n",
    "- (bool) Dx:Cancer \n",
    "- (bool) Dx:CIN \n",
    "- (bool) Dx:HPV \n",
    "- (bool) Dx \n",
    "- (bool) Hinselmann: target variable \n",
    "- (bool) Schiller: target variable \n",
    "- (bool) Cytology: target variable \n",
    "- (bool) Biopsy: target variable"
   ]
  },
  {
   "cell_type": "code",
   "execution_count": 3,
   "metadata": {
    "collapsed": false
   },
   "outputs": [
    {
     "data": {
      "image/png": "[encoded data removed]",
      "text/plain": [
       "<IPython.core.display.Image object>"
      ]
     },
     "execution_count": 3,
     "metadata": {},
     "output_type": "execute_result"
    }
   ],
   "source": [
    "from IPython.display import Image\n",
    "Image(\"Features acquired in the risk factors dataset.png\")"
   ]
  },
  {
   "cell_type": "code",
   "execution_count": 4,
   "metadata": {
    "collapsed": false
   },
   "outputs": [
    {
     "data": {
      "text/plain": [
       "Index([u'Age', u'Number of sexual partners', u'First sexual intercourse',\n",
       "       u'Num of pregnancies', u'Smokes', u'Smokes (years)',\n",
       "       u'Smokes (packs/year)', u'Hormonal Contraceptives',\n",
       "       u'Hormonal Contraceptives (years)', u'IUD', u'IUD (years)', u'STDs',\n",
       "       u'STDs (number)', u'STDs:condylomatosis',\n",
       "       u'STDs:cervical condylomatosis', u'STDs:vaginal condylomatosis',\n",
       "       u'STDs:vulvo-perineal condylomatosis', u'STDs:syphilis',\n",
       "       u'STDs:pelvic inflammatory disease', u'STDs:genital herpes',\n",
       "       u'STDs:molluscum contagiosum', u'STDs:AIDS', u'STDs:HIV',\n",
       "       u'STDs:Hepatitis B', u'STDs:HPV', u'STDs: Number of diagnosis',\n",
       "       u'STDs: Time since first diagnosis', u'STDs: Time since last diagnosis',\n",
       "       u'Dx:Cancer', u'Dx:CIN', u'Dx:HPV', u'Dx', u'Hinselmann', u'Schiller',\n",
       "       u'Citology', u'Biopsy'],\n",
       "      dtype='object')"
      ]
     },
     "execution_count": 4,
     "metadata": {},
     "output_type": "execute_result"
    }
   ],
   "source": [
    "data.columns"
   ]
  },
  {
   "cell_type": "code",
   "execution_count": 5,
   "metadata": {
    "collapsed": false
   },
   "outputs": [],
   "source": [
    "### Prev.cervical diagnosis will Probably be the Target Leak Variables\n",
    "data=data.drop('Dx:Cancer', 1)\n",
    "data=data.drop('Dx:CIN', 1)\n",
    "data=data.drop('Dx:HPV', 1)\n",
    "data=data.drop('Dx', 1)"
   ]
  },
  {
   "cell_type": "code",
   "execution_count": 6,
   "metadata": {
    "collapsed": false
   },
   "outputs": [],
   "source": [
    "import numpy as np\n",
    "data = data.replace('?', np.nan)"
   ]
  },
  {
   "cell_type": "code",
   "execution_count": 7,
   "metadata": {
    "collapsed": false
   },
   "outputs": [
    {
     "name": "stdout",
     "output_type": "stream",
     "text": [
      "Age                                     0\n",
      "Number of sexual partners              26\n",
      "First sexual intercourse                7\n",
      "Num of pregnancies                     56\n",
      "Smokes                                 13\n",
      "Smokes (years)                         13\n",
      "Smokes (packs/year)                    13\n",
      "Hormonal Contraceptives               108\n",
      "Hormonal Contraceptives (years)       108\n",
      "IUD                                   117\n",
      "IUD (years)                           117\n",
      "STDs                                  105\n",
      "STDs (number)                         105\n",
      "STDs:condylomatosis                   105\n",
      "STDs:cervical condylomatosis          105\n",
      "STDs:vaginal condylomatosis           105\n",
      "STDs:vulvo-perineal condylomatosis    105\n",
      "STDs:syphilis                         105\n",
      "STDs:pelvic inflammatory disease      105\n",
      "STDs:genital herpes                   105\n",
      "STDs:molluscum contagiosum            105\n",
      "STDs:AIDS                             105\n",
      "STDs:HIV                              105\n",
      "STDs:Hepatitis B                      105\n",
      "STDs:HPV                              105\n",
      "STDs: Number of diagnosis               0\n",
      "STDs: Time since first diagnosis      787\n",
      "STDs: Time since last diagnosis       787\n",
      "Hinselmann                              0\n",
      "Schiller                                0\n",
      "Citology                                0\n",
      "Biopsy                                  0\n",
      "dtype: int64\n"
     ]
    }
   ],
   "source": [
    "print(data.isnull().sum())"
   ]
  },
  {
   "cell_type": "code",
   "execution_count": 8,
   "metadata": {
    "collapsed": true
   },
   "outputs": [],
   "source": [
    "data2 = data"
   ]
  },
  {
   "cell_type": "code",
   "execution_count": 9,
   "metadata": {
    "collapsed": false
   },
   "outputs": [],
   "source": [
    "def age_bin(Age):\n",
    "    if (Age>0 and Age <= 30):\n",
    "        return 1\n",
    "    elif (Age>30 and Age <= 60):\n",
    "        return 2\n",
    "    elif (Age>60 and Age <= 90):\n",
    "        return 3\n",
    "    else:\n",
    "        return 4\n",
    "    \n",
    "data2[\"Age_bin\"] = data2[\"Age\"].apply(age_bin)\n",
    "data2 = data2.drop('Age', 1)"
   ]
  },
  {
   "cell_type": "code",
   "execution_count": 10,
   "metadata": {
    "collapsed": false
   },
   "outputs": [
    {
     "data": {
      "text/plain": [
       "count    832.000000\n",
       "mean       2.527644\n",
       "std        1.667760\n",
       "min        1.000000\n",
       "25%        2.000000\n",
       "50%        2.000000\n",
       "75%        3.000000\n",
       "max       28.000000\n",
       "Name: Number of sexual partners, dtype: float64"
      ]
     },
     "execution_count": 10,
     "metadata": {},
     "output_type": "execute_result"
    }
   ],
   "source": [
    "try:\n",
    "    data2['Number of sexual partners'] = data2['Number of sexual partners'].astype(float)\n",
    "except Exception:\n",
    "    pass\n",
    "data2['Number of sexual partners'].describe()"
   ]
  },
  {
   "cell_type": "code",
   "execution_count": 11,
   "metadata": {
    "collapsed": false
   },
   "outputs": [
    {
     "data": {
      "text/html": [
       "<div>\n",
       "<table border=\"1\" class=\"dataframe\">\n",
       "  <thead>\n",
       "    <tr style=\"text-align: right;\">\n",
       "      <th></th>\n",
       "      <th>First sexual intercourse</th>\n",
       "      <th>Num of pregnancies</th>\n",
       "      <th>Smokes</th>\n",
       "      <th>Smokes (years)</th>\n",
       "      <th>Smokes (packs/year)</th>\n",
       "      <th>Hormonal Contraceptives</th>\n",
       "      <th>Hormonal Contraceptives (years)</th>\n",
       "      <th>IUD</th>\n",
       "      <th>IUD (years)</th>\n",
       "      <th>STDs</th>\n",
       "      <th>...</th>\n",
       "      <th>STDs:HPV</th>\n",
       "      <th>STDs: Number of diagnosis</th>\n",
       "      <th>STDs: Time since first diagnosis</th>\n",
       "      <th>STDs: Time since last diagnosis</th>\n",
       "      <th>Hinselmann</th>\n",
       "      <th>Schiller</th>\n",
       "      <th>Citology</th>\n",
       "      <th>Biopsy</th>\n",
       "      <th>Age_bin</th>\n",
       "      <th>Number of sexual partners_bin</th>\n",
       "    </tr>\n",
       "  </thead>\n",
       "  <tbody>\n",
       "    <tr>\n",
       "      <th>0</th>\n",
       "      <td>15</td>\n",
       "      <td>1</td>\n",
       "      <td>0</td>\n",
       "      <td>0</td>\n",
       "      <td>0</td>\n",
       "      <td>0</td>\n",
       "      <td>0</td>\n",
       "      <td>0</td>\n",
       "      <td>0</td>\n",
       "      <td>0</td>\n",
       "      <td>...</td>\n",
       "      <td>0</td>\n",
       "      <td>0</td>\n",
       "      <td>NaN</td>\n",
       "      <td>NaN</td>\n",
       "      <td>0</td>\n",
       "      <td>0</td>\n",
       "      <td>0</td>\n",
       "      <td>0</td>\n",
       "      <td>1</td>\n",
       "      <td>1</td>\n",
       "    </tr>\n",
       "    <tr>\n",
       "      <th>1</th>\n",
       "      <td>14</td>\n",
       "      <td>1</td>\n",
       "      <td>0</td>\n",
       "      <td>0</td>\n",
       "      <td>0</td>\n",
       "      <td>0</td>\n",
       "      <td>0</td>\n",
       "      <td>0</td>\n",
       "      <td>0</td>\n",
       "      <td>0</td>\n",
       "      <td>...</td>\n",
       "      <td>0</td>\n",
       "      <td>0</td>\n",
       "      <td>NaN</td>\n",
       "      <td>NaN</td>\n",
       "      <td>0</td>\n",
       "      <td>0</td>\n",
       "      <td>0</td>\n",
       "      <td>0</td>\n",
       "      <td>1</td>\n",
       "      <td>1</td>\n",
       "    </tr>\n",
       "    <tr>\n",
       "      <th>2</th>\n",
       "      <td>NaN</td>\n",
       "      <td>1</td>\n",
       "      <td>0</td>\n",
       "      <td>0</td>\n",
       "      <td>0</td>\n",
       "      <td>0</td>\n",
       "      <td>0</td>\n",
       "      <td>0</td>\n",
       "      <td>0</td>\n",
       "      <td>0</td>\n",
       "      <td>...</td>\n",
       "      <td>0</td>\n",
       "      <td>0</td>\n",
       "      <td>NaN</td>\n",
       "      <td>NaN</td>\n",
       "      <td>0</td>\n",
       "      <td>0</td>\n",
       "      <td>0</td>\n",
       "      <td>0</td>\n",
       "      <td>2</td>\n",
       "      <td>1</td>\n",
       "    </tr>\n",
       "    <tr>\n",
       "      <th>3</th>\n",
       "      <td>16</td>\n",
       "      <td>4</td>\n",
       "      <td>1</td>\n",
       "      <td>37</td>\n",
       "      <td>37</td>\n",
       "      <td>1</td>\n",
       "      <td>3</td>\n",
       "      <td>0</td>\n",
       "      <td>0</td>\n",
       "      <td>0</td>\n",
       "      <td>...</td>\n",
       "      <td>0</td>\n",
       "      <td>0</td>\n",
       "      <td>NaN</td>\n",
       "      <td>NaN</td>\n",
       "      <td>0</td>\n",
       "      <td>0</td>\n",
       "      <td>0</td>\n",
       "      <td>0</td>\n",
       "      <td>2</td>\n",
       "      <td>1</td>\n",
       "    </tr>\n",
       "    <tr>\n",
       "      <th>4</th>\n",
       "      <td>21</td>\n",
       "      <td>4</td>\n",
       "      <td>0</td>\n",
       "      <td>0</td>\n",
       "      <td>0</td>\n",
       "      <td>1</td>\n",
       "      <td>15</td>\n",
       "      <td>0</td>\n",
       "      <td>0</td>\n",
       "      <td>0</td>\n",
       "      <td>...</td>\n",
       "      <td>0</td>\n",
       "      <td>0</td>\n",
       "      <td>NaN</td>\n",
       "      <td>NaN</td>\n",
       "      <td>0</td>\n",
       "      <td>0</td>\n",
       "      <td>0</td>\n",
       "      <td>0</td>\n",
       "      <td>2</td>\n",
       "      <td>1</td>\n",
       "    </tr>\n",
       "  </tbody>\n",
       "</table>\n",
       "<p>5 rows × 32 columns</p>\n",
       "</div>"
      ],
      "text/plain": [
       "  First sexual intercourse Num of pregnancies Smokes Smokes (years)  \\\n",
       "0                       15                  1      0              0   \n",
       "1                       14                  1      0              0   \n",
       "2                      NaN                  1      0              0   \n",
       "3                       16                  4      1             37   \n",
       "4                       21                  4      0              0   \n",
       "\n",
       "  Smokes (packs/year) Hormonal Contraceptives Hormonal Contraceptives (years)  \\\n",
       "0                   0                       0                               0   \n",
       "1                   0                       0                               0   \n",
       "2                   0                       0                               0   \n",
       "3                  37                       1                               3   \n",
       "4                   0                       1                              15   \n",
       "\n",
       "  IUD IUD (years) STDs              ...              STDs:HPV  \\\n",
       "0   0           0    0              ...                     0   \n",
       "1   0           0    0              ...                     0   \n",
       "2   0           0    0              ...                     0   \n",
       "3   0           0    0              ...                     0   \n",
       "4   0           0    0              ...                     0   \n",
       "\n",
       "  STDs: Number of diagnosis STDs: Time since first diagnosis  \\\n",
       "0                         0                              NaN   \n",
       "1                         0                              NaN   \n",
       "2                         0                              NaN   \n",
       "3                         0                              NaN   \n",
       "4                         0                              NaN   \n",
       "\n",
       "  STDs: Time since last diagnosis Hinselmann Schiller Citology Biopsy Age_bin  \\\n",
       "0                             NaN          0        0        0      0       1   \n",
       "1                             NaN          0        0        0      0       1   \n",
       "2                             NaN          0        0        0      0       2   \n",
       "3                             NaN          0        0        0      0       2   \n",
       "4                             NaN          0        0        0      0       2   \n",
       "\n",
       "  Number of sexual partners_bin  \n",
       "0                             1  \n",
       "1                             1  \n",
       "2                             1  \n",
       "3                             1  \n",
       "4                             1  \n",
       "\n",
       "[5 rows x 32 columns]"
      ]
     },
     "execution_count": 11,
     "metadata": {},
     "output_type": "execute_result"
    }
   ],
   "source": [
    "def sex_partner_bin(number):\n",
    "    if (number> 0 and number <= 5):\n",
    "        return 1\n",
    "    elif (number == 0):\n",
    "        return 0\n",
    "    elif (number> 5 and number <= 10):\n",
    "        return 2\n",
    "    elif (number> 10 and number <= 15):\n",
    "        return 3\n",
    "    elif (number> 15 and number <= 40):\n",
    "        return 4\n",
    "    else:\n",
    "        return \"NaN\"\n",
    "    \n",
    "data2[\"Number of sexual partners_bin\"] = data2[\"Number of sexual partners\"].apply(sex_partner_bin)\n",
    "data2 = data2.drop('Number of sexual partners', 1)\n",
    "data2.head()"
   ]
  },
  {
   "cell_type": "code",
   "execution_count": 12,
   "metadata": {
    "collapsed": false
   },
   "outputs": [
    {
     "data": {
      "text/plain": [
       "count    851.000000\n",
       "mean      16.995300\n",
       "std        2.803355\n",
       "min       10.000000\n",
       "25%       15.000000\n",
       "50%       17.000000\n",
       "75%       18.000000\n",
       "max       32.000000\n",
       "Name: First sexual intercourse, dtype: float64"
      ]
     },
     "execution_count": 12,
     "metadata": {},
     "output_type": "execute_result"
    }
   ],
   "source": [
    "try:\n",
    "    data2['First sexual intercourse'] = data2['First sexual intercourse'].astype(float)\n",
    "except Exception:\n",
    "    pass\n",
    "data2['First sexual intercourse'].describe()"
   ]
  },
  {
   "cell_type": "code",
   "execution_count": 13,
   "metadata": {
    "collapsed": false
   },
   "outputs": [
    {
     "data": {
      "text/html": [
       "<div>\n",
       "<table border=\"1\" class=\"dataframe\">\n",
       "  <thead>\n",
       "    <tr style=\"text-align: right;\">\n",
       "      <th></th>\n",
       "      <th>Num of pregnancies</th>\n",
       "      <th>Smokes</th>\n",
       "      <th>Smokes (years)</th>\n",
       "      <th>Smokes (packs/year)</th>\n",
       "      <th>Hormonal Contraceptives</th>\n",
       "      <th>Hormonal Contraceptives (years)</th>\n",
       "      <th>IUD</th>\n",
       "      <th>IUD (years)</th>\n",
       "      <th>STDs</th>\n",
       "      <th>STDs (number)</th>\n",
       "      <th>...</th>\n",
       "      <th>STDs: Number of diagnosis</th>\n",
       "      <th>STDs: Time since first diagnosis</th>\n",
       "      <th>STDs: Time since last diagnosis</th>\n",
       "      <th>Hinselmann</th>\n",
       "      <th>Schiller</th>\n",
       "      <th>Citology</th>\n",
       "      <th>Biopsy</th>\n",
       "      <th>Age_bin</th>\n",
       "      <th>Number of sexual partners_bin</th>\n",
       "      <th>First sexual intercourse_bin</th>\n",
       "    </tr>\n",
       "  </thead>\n",
       "  <tbody>\n",
       "    <tr>\n",
       "      <th>0</th>\n",
       "      <td>1</td>\n",
       "      <td>0</td>\n",
       "      <td>0</td>\n",
       "      <td>0</td>\n",
       "      <td>0</td>\n",
       "      <td>0</td>\n",
       "      <td>0</td>\n",
       "      <td>0</td>\n",
       "      <td>0</td>\n",
       "      <td>0</td>\n",
       "      <td>...</td>\n",
       "      <td>0</td>\n",
       "      <td>NaN</td>\n",
       "      <td>NaN</td>\n",
       "      <td>0</td>\n",
       "      <td>0</td>\n",
       "      <td>0</td>\n",
       "      <td>0</td>\n",
       "      <td>1</td>\n",
       "      <td>1</td>\n",
       "      <td>1</td>\n",
       "    </tr>\n",
       "    <tr>\n",
       "      <th>1</th>\n",
       "      <td>1</td>\n",
       "      <td>0</td>\n",
       "      <td>0</td>\n",
       "      <td>0</td>\n",
       "      <td>0</td>\n",
       "      <td>0</td>\n",
       "      <td>0</td>\n",
       "      <td>0</td>\n",
       "      <td>0</td>\n",
       "      <td>0</td>\n",
       "      <td>...</td>\n",
       "      <td>0</td>\n",
       "      <td>NaN</td>\n",
       "      <td>NaN</td>\n",
       "      <td>0</td>\n",
       "      <td>0</td>\n",
       "      <td>0</td>\n",
       "      <td>0</td>\n",
       "      <td>1</td>\n",
       "      <td>1</td>\n",
       "      <td>1</td>\n",
       "    </tr>\n",
       "    <tr>\n",
       "      <th>2</th>\n",
       "      <td>1</td>\n",
       "      <td>0</td>\n",
       "      <td>0</td>\n",
       "      <td>0</td>\n",
       "      <td>0</td>\n",
       "      <td>0</td>\n",
       "      <td>0</td>\n",
       "      <td>0</td>\n",
       "      <td>0</td>\n",
       "      <td>0</td>\n",
       "      <td>...</td>\n",
       "      <td>0</td>\n",
       "      <td>NaN</td>\n",
       "      <td>NaN</td>\n",
       "      <td>0</td>\n",
       "      <td>0</td>\n",
       "      <td>0</td>\n",
       "      <td>0</td>\n",
       "      <td>2</td>\n",
       "      <td>1</td>\n",
       "      <td>NaN</td>\n",
       "    </tr>\n",
       "    <tr>\n",
       "      <th>3</th>\n",
       "      <td>4</td>\n",
       "      <td>1</td>\n",
       "      <td>37</td>\n",
       "      <td>37</td>\n",
       "      <td>1</td>\n",
       "      <td>3</td>\n",
       "      <td>0</td>\n",
       "      <td>0</td>\n",
       "      <td>0</td>\n",
       "      <td>0</td>\n",
       "      <td>...</td>\n",
       "      <td>0</td>\n",
       "      <td>NaN</td>\n",
       "      <td>NaN</td>\n",
       "      <td>0</td>\n",
       "      <td>0</td>\n",
       "      <td>0</td>\n",
       "      <td>0</td>\n",
       "      <td>2</td>\n",
       "      <td>1</td>\n",
       "      <td>2</td>\n",
       "    </tr>\n",
       "    <tr>\n",
       "      <th>4</th>\n",
       "      <td>4</td>\n",
       "      <td>0</td>\n",
       "      <td>0</td>\n",
       "      <td>0</td>\n",
       "      <td>1</td>\n",
       "      <td>15</td>\n",
       "      <td>0</td>\n",
       "      <td>0</td>\n",
       "      <td>0</td>\n",
       "      <td>0</td>\n",
       "      <td>...</td>\n",
       "      <td>0</td>\n",
       "      <td>NaN</td>\n",
       "      <td>NaN</td>\n",
       "      <td>0</td>\n",
       "      <td>0</td>\n",
       "      <td>0</td>\n",
       "      <td>0</td>\n",
       "      <td>2</td>\n",
       "      <td>1</td>\n",
       "      <td>2</td>\n",
       "    </tr>\n",
       "  </tbody>\n",
       "</table>\n",
       "<p>5 rows × 32 columns</p>\n",
       "</div>"
      ],
      "text/plain": [
       "  Num of pregnancies Smokes Smokes (years) Smokes (packs/year)  \\\n",
       "0                  1      0              0                   0   \n",
       "1                  1      0              0                   0   \n",
       "2                  1      0              0                   0   \n",
       "3                  4      1             37                  37   \n",
       "4                  4      0              0                   0   \n",
       "\n",
       "  Hormonal Contraceptives Hormonal Contraceptives (years) IUD IUD (years)  \\\n",
       "0                       0                               0   0           0   \n",
       "1                       0                               0   0           0   \n",
       "2                       0                               0   0           0   \n",
       "3                       1                               3   0           0   \n",
       "4                       1                              15   0           0   \n",
       "\n",
       "  STDs STDs (number)             ...              STDs: Number of diagnosis  \\\n",
       "0    0             0             ...                                      0   \n",
       "1    0             0             ...                                      0   \n",
       "2    0             0             ...                                      0   \n",
       "3    0             0             ...                                      0   \n",
       "4    0             0             ...                                      0   \n",
       "\n",
       "  STDs: Time since first diagnosis STDs: Time since last diagnosis Hinselmann  \\\n",
       "0                              NaN                             NaN          0   \n",
       "1                              NaN                             NaN          0   \n",
       "2                              NaN                             NaN          0   \n",
       "3                              NaN                             NaN          0   \n",
       "4                              NaN                             NaN          0   \n",
       "\n",
       "  Schiller Citology Biopsy Age_bin Number of sexual partners_bin  \\\n",
       "0        0        0      0       1                             1   \n",
       "1        0        0      0       1                             1   \n",
       "2        0        0      0       2                             1   \n",
       "3        0        0      0       2                             1   \n",
       "4        0        0      0       2                             1   \n",
       "\n",
       "  First sexual intercourse_bin  \n",
       "0                            1  \n",
       "1                            1  \n",
       "2                          NaN  \n",
       "3                            2  \n",
       "4                            2  \n",
       "\n",
       "[5 rows x 32 columns]"
      ]
     },
     "execution_count": 13,
     "metadata": {},
     "output_type": "execute_result"
    }
   ],
   "source": [
    "def sex_intercourse_bin(number):\n",
    "    if (number>0 and number <= 15):\n",
    "        return 1\n",
    "    elif (number == 0):\n",
    "        return 0\n",
    "    elif (number> 15 and number <= 30):\n",
    "        return 2\n",
    "    elif (number> 30 and number <= 45):\n",
    "        return 3\n",
    "    else:\n",
    "        return \"NaN\"\n",
    "    \n",
    "data2[\"First sexual intercourse_bin\"] = data2[\"First sexual intercourse\"].apply(sex_intercourse_bin)\n",
    "data2 = data2.drop('First sexual intercourse', 1)\n",
    "data2.head()"
   ]
  },
  {
   "cell_type": "code",
   "execution_count": 14,
   "metadata": {
    "collapsed": false
   },
   "outputs": [
    {
     "data": {
      "text/plain": [
       "count    802.000000\n",
       "mean       2.275561\n",
       "std        1.447414\n",
       "min        0.000000\n",
       "25%        1.000000\n",
       "50%        2.000000\n",
       "75%        3.000000\n",
       "max       11.000000\n",
       "Name: Num of pregnancies, dtype: float64"
      ]
     },
     "execution_count": 14,
     "metadata": {},
     "output_type": "execute_result"
    }
   ],
   "source": [
    "try:\n",
    "    data2['Num of pregnancies'] = data2['Num of pregnancies'].astype(float)\n",
    "except Exception:\n",
    "    pass\n",
    "data2['Num of pregnancies'].describe()"
   ]
  },
  {
   "cell_type": "code",
   "execution_count": 15,
   "metadata": {
    "collapsed": false
   },
   "outputs": [
    {
     "data": {
      "text/html": [
       "<div>\n",
       "<table border=\"1\" class=\"dataframe\">\n",
       "  <thead>\n",
       "    <tr style=\"text-align: right;\">\n",
       "      <th></th>\n",
       "      <th>Smokes</th>\n",
       "      <th>Smokes (years)</th>\n",
       "      <th>Smokes (packs/year)</th>\n",
       "      <th>Hormonal Contraceptives</th>\n",
       "      <th>Hormonal Contraceptives (years)</th>\n",
       "      <th>IUD</th>\n",
       "      <th>IUD (years)</th>\n",
       "      <th>STDs</th>\n",
       "      <th>STDs (number)</th>\n",
       "      <th>STDs:condylomatosis</th>\n",
       "      <th>...</th>\n",
       "      <th>STDs: Time since first diagnosis</th>\n",
       "      <th>STDs: Time since last diagnosis</th>\n",
       "      <th>Hinselmann</th>\n",
       "      <th>Schiller</th>\n",
       "      <th>Citology</th>\n",
       "      <th>Biopsy</th>\n",
       "      <th>Age_bin</th>\n",
       "      <th>Number of sexual partners_bin</th>\n",
       "      <th>First sexual intercourse_bin</th>\n",
       "      <th>Num of pregnancies_bin</th>\n",
       "    </tr>\n",
       "  </thead>\n",
       "  <tbody>\n",
       "    <tr>\n",
       "      <th>0</th>\n",
       "      <td>0</td>\n",
       "      <td>0</td>\n",
       "      <td>0</td>\n",
       "      <td>0</td>\n",
       "      <td>0</td>\n",
       "      <td>0</td>\n",
       "      <td>0</td>\n",
       "      <td>0</td>\n",
       "      <td>0</td>\n",
       "      <td>0</td>\n",
       "      <td>...</td>\n",
       "      <td>NaN</td>\n",
       "      <td>NaN</td>\n",
       "      <td>0</td>\n",
       "      <td>0</td>\n",
       "      <td>0</td>\n",
       "      <td>0</td>\n",
       "      <td>1</td>\n",
       "      <td>1</td>\n",
       "      <td>1</td>\n",
       "      <td>1</td>\n",
       "    </tr>\n",
       "    <tr>\n",
       "      <th>1</th>\n",
       "      <td>0</td>\n",
       "      <td>0</td>\n",
       "      <td>0</td>\n",
       "      <td>0</td>\n",
       "      <td>0</td>\n",
       "      <td>0</td>\n",
       "      <td>0</td>\n",
       "      <td>0</td>\n",
       "      <td>0</td>\n",
       "      <td>0</td>\n",
       "      <td>...</td>\n",
       "      <td>NaN</td>\n",
       "      <td>NaN</td>\n",
       "      <td>0</td>\n",
       "      <td>0</td>\n",
       "      <td>0</td>\n",
       "      <td>0</td>\n",
       "      <td>1</td>\n",
       "      <td>1</td>\n",
       "      <td>1</td>\n",
       "      <td>1</td>\n",
       "    </tr>\n",
       "    <tr>\n",
       "      <th>2</th>\n",
       "      <td>0</td>\n",
       "      <td>0</td>\n",
       "      <td>0</td>\n",
       "      <td>0</td>\n",
       "      <td>0</td>\n",
       "      <td>0</td>\n",
       "      <td>0</td>\n",
       "      <td>0</td>\n",
       "      <td>0</td>\n",
       "      <td>0</td>\n",
       "      <td>...</td>\n",
       "      <td>NaN</td>\n",
       "      <td>NaN</td>\n",
       "      <td>0</td>\n",
       "      <td>0</td>\n",
       "      <td>0</td>\n",
       "      <td>0</td>\n",
       "      <td>2</td>\n",
       "      <td>1</td>\n",
       "      <td>NaN</td>\n",
       "      <td>1</td>\n",
       "    </tr>\n",
       "    <tr>\n",
       "      <th>3</th>\n",
       "      <td>1</td>\n",
       "      <td>37</td>\n",
       "      <td>37</td>\n",
       "      <td>1</td>\n",
       "      <td>3</td>\n",
       "      <td>0</td>\n",
       "      <td>0</td>\n",
       "      <td>0</td>\n",
       "      <td>0</td>\n",
       "      <td>0</td>\n",
       "      <td>...</td>\n",
       "      <td>NaN</td>\n",
       "      <td>NaN</td>\n",
       "      <td>0</td>\n",
       "      <td>0</td>\n",
       "      <td>0</td>\n",
       "      <td>0</td>\n",
       "      <td>2</td>\n",
       "      <td>1</td>\n",
       "      <td>2</td>\n",
       "      <td>1</td>\n",
       "    </tr>\n",
       "    <tr>\n",
       "      <th>4</th>\n",
       "      <td>0</td>\n",
       "      <td>0</td>\n",
       "      <td>0</td>\n",
       "      <td>1</td>\n",
       "      <td>15</td>\n",
       "      <td>0</td>\n",
       "      <td>0</td>\n",
       "      <td>0</td>\n",
       "      <td>0</td>\n",
       "      <td>0</td>\n",
       "      <td>...</td>\n",
       "      <td>NaN</td>\n",
       "      <td>NaN</td>\n",
       "      <td>0</td>\n",
       "      <td>0</td>\n",
       "      <td>0</td>\n",
       "      <td>0</td>\n",
       "      <td>2</td>\n",
       "      <td>1</td>\n",
       "      <td>2</td>\n",
       "      <td>1</td>\n",
       "    </tr>\n",
       "  </tbody>\n",
       "</table>\n",
       "<p>5 rows × 32 columns</p>\n",
       "</div>"
      ],
      "text/plain": [
       "  Smokes Smokes (years) Smokes (packs/year) Hormonal Contraceptives  \\\n",
       "0      0              0                   0                       0   \n",
       "1      0              0                   0                       0   \n",
       "2      0              0                   0                       0   \n",
       "3      1             37                  37                       1   \n",
       "4      0              0                   0                       1   \n",
       "\n",
       "  Hormonal Contraceptives (years) IUD IUD (years) STDs STDs (number)  \\\n",
       "0                               0   0           0    0             0   \n",
       "1                               0   0           0    0             0   \n",
       "2                               0   0           0    0             0   \n",
       "3                               3   0           0    0             0   \n",
       "4                              15   0           0    0             0   \n",
       "\n",
       "  STDs:condylomatosis          ...           STDs: Time since first diagnosis  \\\n",
       "0                   0          ...                                        NaN   \n",
       "1                   0          ...                                        NaN   \n",
       "2                   0          ...                                        NaN   \n",
       "3                   0          ...                                        NaN   \n",
       "4                   0          ...                                        NaN   \n",
       "\n",
       "  STDs: Time since last diagnosis Hinselmann Schiller Citology Biopsy Age_bin  \\\n",
       "0                             NaN          0        0        0      0       1   \n",
       "1                             NaN          0        0        0      0       1   \n",
       "2                             NaN          0        0        0      0       2   \n",
       "3                             NaN          0        0        0      0       2   \n",
       "4                             NaN          0        0        0      0       2   \n",
       "\n",
       "  Number of sexual partners_bin First sexual intercourse_bin  \\\n",
       "0                             1                            1   \n",
       "1                             1                            1   \n",
       "2                             1                          NaN   \n",
       "3                             1                            2   \n",
       "4                             1                            2   \n",
       "\n",
       "  Num of pregnancies_bin  \n",
       "0                      1  \n",
       "1                      1  \n",
       "2                      1  \n",
       "3                      1  \n",
       "4                      1  \n",
       "\n",
       "[5 rows x 32 columns]"
      ]
     },
     "execution_count": 15,
     "metadata": {},
     "output_type": "execute_result"
    }
   ],
   "source": [
    "def Num_of_pregnancies_bin(number):\n",
    "    if (number> 0 and number <= 4):\n",
    "        return 1\n",
    "    elif (number == 0):\n",
    "        return 0\n",
    "    elif (number> 4 and number <= 8):\n",
    "        return 2\n",
    "    elif (number> 8 and number <= 12):\n",
    "        return 3\n",
    "    else:\n",
    "        return \"NaN\"\n",
    "    \n",
    "data2[\"Num of pregnancies_bin\"] = data2[\"Num of pregnancies\"].apply(Num_of_pregnancies_bin)\n",
    "data2 = data2.drop('Num of pregnancies', 1)\n",
    "data2.head()"
   ]
  },
  {
   "cell_type": "code",
   "execution_count": 16,
   "metadata": {
    "collapsed": false
   },
   "outputs": [
    {
     "name": "stdout",
     "output_type": "stream",
     "text": [
      "count    845.000000\n",
      "mean       1.219721\n",
      "std        4.089017\n",
      "min        0.000000\n",
      "25%        0.000000\n",
      "50%        0.000000\n",
      "75%        0.000000\n",
      "max       37.000000\n",
      "Name: Smokes (years), dtype: float64\n",
      "count    845.000000\n",
      "mean       0.453144\n",
      "std        2.226610\n",
      "min        0.000000\n",
      "25%        0.000000\n",
      "50%        0.000000\n",
      "75%        0.000000\n",
      "max       37.000000\n",
      "Name: Smokes (packs/year), dtype: float64\n"
     ]
    }
   ],
   "source": [
    "try:\n",
    "    data2['Smokes (years)'] = data2['Smokes (years)'].astype(float)\n",
    "except Exception:\n",
    "    pass\n",
    "print(data2['Smokes (years)'].describe())\n",
    "\n",
    "try:\n",
    "    data2['Smokes (packs/year)'] = data2['Smokes (packs/year)'].astype(float)\n",
    "except Exception:\n",
    "    pass\n",
    "print(data2['Smokes (packs/year)'].describe())"
   ]
  },
  {
   "cell_type": "code",
   "execution_count": 17,
   "metadata": {
    "collapsed": false
   },
   "outputs": [
    {
     "name": "stdout",
     "output_type": "stream",
     "text": [
      "count    750.000000\n",
      "mean       2.256419\n",
      "std        3.764254\n",
      "min        0.000000\n",
      "25%        0.000000\n",
      "50%        0.500000\n",
      "75%        3.000000\n",
      "max       30.000000\n",
      "Name: Hormonal Contraceptives (years), dtype: float64\n"
     ]
    }
   ],
   "source": [
    "try:\n",
    "    data2['Hormonal Contraceptives (years)'] = data2['Hormonal Contraceptives (years)'].astype(float)\n",
    "except Exception:\n",
    "    pass\n",
    "print(data2['Hormonal Contraceptives (years)'].describe())"
   ]
  },
  {
   "cell_type": "code",
   "execution_count": 18,
   "metadata": {
    "collapsed": false
   },
   "outputs": [
    {
     "data": {
      "text/html": [
       "<div>\n",
       "<table border=\"1\" class=\"dataframe\">\n",
       "  <thead>\n",
       "    <tr style=\"text-align: right;\">\n",
       "      <th></th>\n",
       "      <th>Smokes</th>\n",
       "      <th>Smokes (years)</th>\n",
       "      <th>Smokes (packs/year)</th>\n",
       "      <th>Hormonal Contraceptives</th>\n",
       "      <th>IUD</th>\n",
       "      <th>IUD (years)</th>\n",
       "      <th>STDs</th>\n",
       "      <th>STDs (number)</th>\n",
       "      <th>STDs:condylomatosis</th>\n",
       "      <th>STDs:cervical condylomatosis</th>\n",
       "      <th>...</th>\n",
       "      <th>STDs: Time since last diagnosis</th>\n",
       "      <th>Hinselmann</th>\n",
       "      <th>Schiller</th>\n",
       "      <th>Citology</th>\n",
       "      <th>Biopsy</th>\n",
       "      <th>Age_bin</th>\n",
       "      <th>Number of sexual partners_bin</th>\n",
       "      <th>First sexual intercourse_bin</th>\n",
       "      <th>Num of pregnancies_bin</th>\n",
       "      <th>Hormonal Contraceptives (years)_bin</th>\n",
       "    </tr>\n",
       "  </thead>\n",
       "  <tbody>\n",
       "    <tr>\n",
       "      <th>0</th>\n",
       "      <td>0</td>\n",
       "      <td>0.0</td>\n",
       "      <td>0.0</td>\n",
       "      <td>0</td>\n",
       "      <td>0</td>\n",
       "      <td>0</td>\n",
       "      <td>0</td>\n",
       "      <td>0</td>\n",
       "      <td>0</td>\n",
       "      <td>0</td>\n",
       "      <td>...</td>\n",
       "      <td>NaN</td>\n",
       "      <td>0</td>\n",
       "      <td>0</td>\n",
       "      <td>0</td>\n",
       "      <td>0</td>\n",
       "      <td>1</td>\n",
       "      <td>1</td>\n",
       "      <td>1</td>\n",
       "      <td>1</td>\n",
       "      <td>0</td>\n",
       "    </tr>\n",
       "    <tr>\n",
       "      <th>1</th>\n",
       "      <td>0</td>\n",
       "      <td>0.0</td>\n",
       "      <td>0.0</td>\n",
       "      <td>0</td>\n",
       "      <td>0</td>\n",
       "      <td>0</td>\n",
       "      <td>0</td>\n",
       "      <td>0</td>\n",
       "      <td>0</td>\n",
       "      <td>0</td>\n",
       "      <td>...</td>\n",
       "      <td>NaN</td>\n",
       "      <td>0</td>\n",
       "      <td>0</td>\n",
       "      <td>0</td>\n",
       "      <td>0</td>\n",
       "      <td>1</td>\n",
       "      <td>1</td>\n",
       "      <td>1</td>\n",
       "      <td>1</td>\n",
       "      <td>0</td>\n",
       "    </tr>\n",
       "    <tr>\n",
       "      <th>2</th>\n",
       "      <td>0</td>\n",
       "      <td>0.0</td>\n",
       "      <td>0.0</td>\n",
       "      <td>0</td>\n",
       "      <td>0</td>\n",
       "      <td>0</td>\n",
       "      <td>0</td>\n",
       "      <td>0</td>\n",
       "      <td>0</td>\n",
       "      <td>0</td>\n",
       "      <td>...</td>\n",
       "      <td>NaN</td>\n",
       "      <td>0</td>\n",
       "      <td>0</td>\n",
       "      <td>0</td>\n",
       "      <td>0</td>\n",
       "      <td>2</td>\n",
       "      <td>1</td>\n",
       "      <td>NaN</td>\n",
       "      <td>1</td>\n",
       "      <td>0</td>\n",
       "    </tr>\n",
       "    <tr>\n",
       "      <th>3</th>\n",
       "      <td>1</td>\n",
       "      <td>37.0</td>\n",
       "      <td>37.0</td>\n",
       "      <td>1</td>\n",
       "      <td>0</td>\n",
       "      <td>0</td>\n",
       "      <td>0</td>\n",
       "      <td>0</td>\n",
       "      <td>0</td>\n",
       "      <td>0</td>\n",
       "      <td>...</td>\n",
       "      <td>NaN</td>\n",
       "      <td>0</td>\n",
       "      <td>0</td>\n",
       "      <td>0</td>\n",
       "      <td>0</td>\n",
       "      <td>2</td>\n",
       "      <td>1</td>\n",
       "      <td>2</td>\n",
       "      <td>1</td>\n",
       "      <td>1</td>\n",
       "    </tr>\n",
       "    <tr>\n",
       "      <th>4</th>\n",
       "      <td>0</td>\n",
       "      <td>0.0</td>\n",
       "      <td>0.0</td>\n",
       "      <td>1</td>\n",
       "      <td>0</td>\n",
       "      <td>0</td>\n",
       "      <td>0</td>\n",
       "      <td>0</td>\n",
       "      <td>0</td>\n",
       "      <td>0</td>\n",
       "      <td>...</td>\n",
       "      <td>NaN</td>\n",
       "      <td>0</td>\n",
       "      <td>0</td>\n",
       "      <td>0</td>\n",
       "      <td>0</td>\n",
       "      <td>2</td>\n",
       "      <td>1</td>\n",
       "      <td>2</td>\n",
       "      <td>1</td>\n",
       "      <td>NaN</td>\n",
       "    </tr>\n",
       "  </tbody>\n",
       "</table>\n",
       "<p>5 rows × 32 columns</p>\n",
       "</div>"
      ],
      "text/plain": [
       "  Smokes  Smokes (years)  Smokes (packs/year) Hormonal Contraceptives IUD  \\\n",
       "0      0             0.0                  0.0                       0   0   \n",
       "1      0             0.0                  0.0                       0   0   \n",
       "2      0             0.0                  0.0                       0   0   \n",
       "3      1            37.0                 37.0                       1   0   \n",
       "4      0             0.0                  0.0                       1   0   \n",
       "\n",
       "  IUD (years) STDs STDs (number) STDs:condylomatosis  \\\n",
       "0           0    0             0                   0   \n",
       "1           0    0             0                   0   \n",
       "2           0    0             0                   0   \n",
       "3           0    0             0                   0   \n",
       "4           0    0             0                   0   \n",
       "\n",
       "  STDs:cervical condylomatosis                 ...                  \\\n",
       "0                            0                 ...                   \n",
       "1                            0                 ...                   \n",
       "2                            0                 ...                   \n",
       "3                            0                 ...                   \n",
       "4                            0                 ...                   \n",
       "\n",
       "  STDs: Time since last diagnosis Hinselmann Schiller Citology Biopsy Age_bin  \\\n",
       "0                             NaN          0        0        0      0       1   \n",
       "1                             NaN          0        0        0      0       1   \n",
       "2                             NaN          0        0        0      0       2   \n",
       "3                             NaN          0        0        0      0       2   \n",
       "4                             NaN          0        0        0      0       2   \n",
       "\n",
       "  Number of sexual partners_bin First sexual intercourse_bin  \\\n",
       "0                             1                            1   \n",
       "1                             1                            1   \n",
       "2                             1                          NaN   \n",
       "3                             1                            2   \n",
       "4                             1                            2   \n",
       "\n",
       "  Num of pregnancies_bin Hormonal Contraceptives (years)_bin  \n",
       "0                      1                                   0  \n",
       "1                      1                                   0  \n",
       "2                      1                                   0  \n",
       "3                      1                                   1  \n",
       "4                      1                                 NaN  \n",
       "\n",
       "[5 rows x 32 columns]"
      ]
     },
     "execution_count": 18,
     "metadata": {},
     "output_type": "execute_result"
    }
   ],
   "source": [
    "def Hormonal_Contraceptives_year(number):\n",
    "    if (number>=0 and number <= 5):\n",
    "        return 1\n",
    "    elif (number ==0):\n",
    "        return 0\n",
    "    elif (number> 5 and number <= 15):\n",
    "        return 2\n",
    "    elif (number> 15 and number <= 30):\n",
    "        return 3\n",
    "    else:\n",
    "        return \"NaN\"\n",
    "    \n",
    "data2[\"Hormonal Contraceptives (years)_bin\"] = data2[\"Hormonal Contraceptives (years)\"].apply(Num_of_pregnancies_bin)\n",
    "data2 = data2.drop('Hormonal Contraceptives (years)', 1)\n",
    "data2.head()"
   ]
  },
  {
   "cell_type": "code",
   "execution_count": 19,
   "metadata": {
    "collapsed": false
   },
   "outputs": [
    {
     "name": "stdout",
     "output_type": "stream",
     "text": [
      "count    741.000000\n",
      "mean       0.514804\n",
      "std        1.943089\n",
      "min        0.000000\n",
      "25%        0.000000\n",
      "50%        0.000000\n",
      "75%        0.000000\n",
      "max       19.000000\n",
      "Name: IUD (years), dtype: float64\n",
      "count    753.000000\n",
      "mean       0.176627\n",
      "std        0.561993\n",
      "min        0.000000\n",
      "25%        0.000000\n",
      "50%        0.000000\n",
      "75%        0.000000\n",
      "max        4.000000\n",
      "Name: STDs (number), dtype: float64\n"
     ]
    }
   ],
   "source": [
    "try:\n",
    "    data2['IUD (years)'] = data2['IUD (years)'].astype(float)\n",
    "except Exception:\n",
    "    pass\n",
    "print(data2['IUD (years)'].describe())\n",
    "try:\n",
    "    data2['STDs (number)'] = data2['STDs (number)'].astype(float)\n",
    "except Exception:\n",
    "    pass\n",
    "print(data2['STDs (number)'].describe())"
   ]
  },
  {
   "cell_type": "code",
   "execution_count": 20,
   "metadata": {
    "collapsed": false
   },
   "outputs": [
    {
     "data": {
      "text/html": [
       "<div>\n",
       "<table border=\"1\" class=\"dataframe\">\n",
       "  <thead>\n",
       "    <tr style=\"text-align: right;\">\n",
       "      <th></th>\n",
       "      <th>Smokes</th>\n",
       "      <th>Smokes (years)</th>\n",
       "      <th>Smokes (packs/year)</th>\n",
       "      <th>Hormonal Contraceptives</th>\n",
       "      <th>IUD</th>\n",
       "      <th>STDs</th>\n",
       "      <th>STDs (number)</th>\n",
       "      <th>STDs:condylomatosis</th>\n",
       "      <th>STDs:cervical condylomatosis</th>\n",
       "      <th>STDs:vaginal condylomatosis</th>\n",
       "      <th>...</th>\n",
       "      <th>Hinselmann</th>\n",
       "      <th>Schiller</th>\n",
       "      <th>Citology</th>\n",
       "      <th>Biopsy</th>\n",
       "      <th>Age_bin</th>\n",
       "      <th>Number of sexual partners_bin</th>\n",
       "      <th>First sexual intercourse_bin</th>\n",
       "      <th>Num of pregnancies_bin</th>\n",
       "      <th>Hormonal Contraceptives (years)_bin</th>\n",
       "      <th>IUD_year_bin</th>\n",
       "    </tr>\n",
       "  </thead>\n",
       "  <tbody>\n",
       "    <tr>\n",
       "      <th>0</th>\n",
       "      <td>0</td>\n",
       "      <td>0.0</td>\n",
       "      <td>0.0</td>\n",
       "      <td>0</td>\n",
       "      <td>0</td>\n",
       "      <td>0</td>\n",
       "      <td>0.0</td>\n",
       "      <td>0</td>\n",
       "      <td>0</td>\n",
       "      <td>0</td>\n",
       "      <td>...</td>\n",
       "      <td>0</td>\n",
       "      <td>0</td>\n",
       "      <td>0</td>\n",
       "      <td>0</td>\n",
       "      <td>1</td>\n",
       "      <td>1</td>\n",
       "      <td>1</td>\n",
       "      <td>1</td>\n",
       "      <td>0</td>\n",
       "      <td>1</td>\n",
       "    </tr>\n",
       "    <tr>\n",
       "      <th>1</th>\n",
       "      <td>0</td>\n",
       "      <td>0.0</td>\n",
       "      <td>0.0</td>\n",
       "      <td>0</td>\n",
       "      <td>0</td>\n",
       "      <td>0</td>\n",
       "      <td>0.0</td>\n",
       "      <td>0</td>\n",
       "      <td>0</td>\n",
       "      <td>0</td>\n",
       "      <td>...</td>\n",
       "      <td>0</td>\n",
       "      <td>0</td>\n",
       "      <td>0</td>\n",
       "      <td>0</td>\n",
       "      <td>1</td>\n",
       "      <td>1</td>\n",
       "      <td>1</td>\n",
       "      <td>1</td>\n",
       "      <td>0</td>\n",
       "      <td>1</td>\n",
       "    </tr>\n",
       "    <tr>\n",
       "      <th>2</th>\n",
       "      <td>0</td>\n",
       "      <td>0.0</td>\n",
       "      <td>0.0</td>\n",
       "      <td>0</td>\n",
       "      <td>0</td>\n",
       "      <td>0</td>\n",
       "      <td>0.0</td>\n",
       "      <td>0</td>\n",
       "      <td>0</td>\n",
       "      <td>0</td>\n",
       "      <td>...</td>\n",
       "      <td>0</td>\n",
       "      <td>0</td>\n",
       "      <td>0</td>\n",
       "      <td>0</td>\n",
       "      <td>2</td>\n",
       "      <td>1</td>\n",
       "      <td>NaN</td>\n",
       "      <td>1</td>\n",
       "      <td>0</td>\n",
       "      <td>1</td>\n",
       "    </tr>\n",
       "    <tr>\n",
       "      <th>3</th>\n",
       "      <td>1</td>\n",
       "      <td>37.0</td>\n",
       "      <td>37.0</td>\n",
       "      <td>1</td>\n",
       "      <td>0</td>\n",
       "      <td>0</td>\n",
       "      <td>0.0</td>\n",
       "      <td>0</td>\n",
       "      <td>0</td>\n",
       "      <td>0</td>\n",
       "      <td>...</td>\n",
       "      <td>0</td>\n",
       "      <td>0</td>\n",
       "      <td>0</td>\n",
       "      <td>0</td>\n",
       "      <td>2</td>\n",
       "      <td>1</td>\n",
       "      <td>2</td>\n",
       "      <td>1</td>\n",
       "      <td>1</td>\n",
       "      <td>1</td>\n",
       "    </tr>\n",
       "    <tr>\n",
       "      <th>4</th>\n",
       "      <td>0</td>\n",
       "      <td>0.0</td>\n",
       "      <td>0.0</td>\n",
       "      <td>1</td>\n",
       "      <td>0</td>\n",
       "      <td>0</td>\n",
       "      <td>0.0</td>\n",
       "      <td>0</td>\n",
       "      <td>0</td>\n",
       "      <td>0</td>\n",
       "      <td>...</td>\n",
       "      <td>0</td>\n",
       "      <td>0</td>\n",
       "      <td>0</td>\n",
       "      <td>0</td>\n",
       "      <td>2</td>\n",
       "      <td>1</td>\n",
       "      <td>2</td>\n",
       "      <td>1</td>\n",
       "      <td>NaN</td>\n",
       "      <td>1</td>\n",
       "    </tr>\n",
       "  </tbody>\n",
       "</table>\n",
       "<p>5 rows × 32 columns</p>\n",
       "</div>"
      ],
      "text/plain": [
       "  Smokes  Smokes (years)  Smokes (packs/year) Hormonal Contraceptives IUD  \\\n",
       "0      0             0.0                  0.0                       0   0   \n",
       "1      0             0.0                  0.0                       0   0   \n",
       "2      0             0.0                  0.0                       0   0   \n",
       "3      1            37.0                 37.0                       1   0   \n",
       "4      0             0.0                  0.0                       1   0   \n",
       "\n",
       "  STDs  STDs (number) STDs:condylomatosis STDs:cervical condylomatosis  \\\n",
       "0    0            0.0                   0                            0   \n",
       "1    0            0.0                   0                            0   \n",
       "2    0            0.0                   0                            0   \n",
       "3    0            0.0                   0                            0   \n",
       "4    0            0.0                   0                            0   \n",
       "\n",
       "  STDs:vaginal condylomatosis      ...      Hinselmann Schiller Citology  \\\n",
       "0                           0      ...               0        0        0   \n",
       "1                           0      ...               0        0        0   \n",
       "2                           0      ...               0        0        0   \n",
       "3                           0      ...               0        0        0   \n",
       "4                           0      ...               0        0        0   \n",
       "\n",
       "  Biopsy Age_bin Number of sexual partners_bin First sexual intercourse_bin  \\\n",
       "0      0       1                             1                            1   \n",
       "1      0       1                             1                            1   \n",
       "2      0       2                             1                          NaN   \n",
       "3      0       2                             1                            2   \n",
       "4      0       2                             1                            2   \n",
       "\n",
       "  Num of pregnancies_bin Hormonal Contraceptives (years)_bin  IUD_year_bin  \n",
       "0                      1                                   0             1  \n",
       "1                      1                                   0             1  \n",
       "2                      1                                   0             1  \n",
       "3                      1                                   1             1  \n",
       "4                      1                                 NaN             1  \n",
       "\n",
       "[5 rows x 32 columns]"
      ]
     },
     "execution_count": 20,
     "metadata": {},
     "output_type": "execute_result"
    }
   ],
   "source": [
    "def IUD_year(number):\n",
    "    if (number>=0 and number <= 5):\n",
    "        return 1\n",
    "    elif (number ==0):\n",
    "        return 0\n",
    "    elif (number> 5 and number <= 15):\n",
    "        return 2\n",
    "    elif (number> 15 and number <= 30):\n",
    "        return 3\n",
    "    else:\n",
    "        return \"NaN\"\n",
    "    \n",
    "data2[\"IUD_year_bin\"] = data2[\"IUD (years)\"].apply(IUD_year)\n",
    "data2 = data2.drop('IUD (years)', 1)\n",
    "data2.head()"
   ]
  },
  {
   "cell_type": "code",
   "execution_count": 21,
   "metadata": {
    "collapsed": false
   },
   "outputs": [
    {
     "data": {
      "text/plain": [
       "Index([u'Smokes', u'Smokes (years)', u'Smokes (packs/year)',\n",
       "       u'Hormonal Contraceptives', u'IUD', u'STDs', u'STDs (number)',\n",
       "       u'STDs:condylomatosis', u'STDs:cervical condylomatosis',\n",
       "       u'STDs:vaginal condylomatosis', u'STDs:vulvo-perineal condylomatosis',\n",
       "       u'STDs:syphilis', u'STDs:pelvic inflammatory disease',\n",
       "       u'STDs:genital herpes', u'STDs:molluscum contagiosum', u'STDs:AIDS',\n",
       "       u'STDs:HIV', u'STDs:Hepatitis B', u'STDs:HPV',\n",
       "       u'STDs: Number of diagnosis', u'STDs: Time since first diagnosis',\n",
       "       u'STDs: Time since last diagnosis', u'Hinselmann', u'Schiller',\n",
       "       u'Citology', u'Biopsy', u'Age_bin', u'Number of sexual partners_bin',\n",
       "       u'First sexual intercourse_bin', u'Num of pregnancies_bin',\n",
       "       u'Hormonal Contraceptives (years)_bin', u'IUD_year_bin'],\n",
       "      dtype='object')"
      ]
     },
     "execution_count": 21,
     "metadata": {},
     "output_type": "execute_result"
    }
   ],
   "source": [
    "data2.columns"
   ]
  },
  {
   "cell_type": "code",
   "execution_count": 22,
   "metadata": {
    "collapsed": false
   },
   "outputs": [
    {
     "name": "stdout",
     "output_type": "stream",
     "text": [
      "count    71.000000\n",
      "mean      6.140845\n",
      "std       5.895024\n",
      "min       1.000000\n",
      "25%       2.000000\n",
      "50%       4.000000\n",
      "75%       8.000000\n",
      "max      22.000000\n",
      "Name: STDs: Time since first diagnosis, dtype: float64\n",
      "count    71.000000\n",
      "mean      5.816901\n",
      "std       5.755271\n",
      "min       1.000000\n",
      "25%       2.000000\n",
      "50%       3.000000\n",
      "75%       7.500000\n",
      "max      22.000000\n",
      "Name: STDs: Time since last diagnosis, dtype: float64\n"
     ]
    }
   ],
   "source": [
    "try:\n",
    "    data2['STDs: Time since first diagnosis'] = data2['STDs: Time since first diagnosis'].astype(float)\n",
    "except Exception:\n",
    "    pass\n",
    "print(data2['STDs: Time since first diagnosis'].describe())\n",
    "try:\n",
    "    data2['STDs: Time since last diagnosis'] = data2['STDs: Time since last diagnosis'].astype(float)\n",
    "except Exception:\n",
    "    pass\n",
    "print(data2['STDs: Time since last diagnosis'].describe())"
   ]
  },
  {
   "cell_type": "code",
   "execution_count": 23,
   "metadata": {
    "collapsed": false
   },
   "outputs": [
    {
     "data": {
      "text/html": [
       "<div>\n",
       "<table border=\"1\" class=\"dataframe\">\n",
       "  <thead>\n",
       "    <tr style=\"text-align: right;\">\n",
       "      <th></th>\n",
       "      <th>Smokes</th>\n",
       "      <th>Smokes (years)</th>\n",
       "      <th>Smokes (packs/year)</th>\n",
       "      <th>Hormonal Contraceptives</th>\n",
       "      <th>IUD</th>\n",
       "      <th>STDs</th>\n",
       "      <th>STDs (number)</th>\n",
       "      <th>STDs:condylomatosis</th>\n",
       "      <th>STDs:cervical condylomatosis</th>\n",
       "      <th>STDs:vaginal condylomatosis</th>\n",
       "      <th>...</th>\n",
       "      <th>Citology</th>\n",
       "      <th>Biopsy</th>\n",
       "      <th>Age_bin</th>\n",
       "      <th>Number of sexual partners_bin</th>\n",
       "      <th>First sexual intercourse_bin</th>\n",
       "      <th>Num of pregnancies_bin</th>\n",
       "      <th>Hormonal Contraceptives (years)_bin</th>\n",
       "      <th>IUD_year_bin</th>\n",
       "      <th>STDs: Time since first diagnosis_bin</th>\n",
       "      <th>STDs: Time since last diagnosis_bin</th>\n",
       "    </tr>\n",
       "  </thead>\n",
       "  <tbody>\n",
       "    <tr>\n",
       "      <th>0</th>\n",
       "      <td>0</td>\n",
       "      <td>0.0</td>\n",
       "      <td>0.0</td>\n",
       "      <td>0</td>\n",
       "      <td>0</td>\n",
       "      <td>0</td>\n",
       "      <td>0.0</td>\n",
       "      <td>0</td>\n",
       "      <td>0</td>\n",
       "      <td>0</td>\n",
       "      <td>...</td>\n",
       "      <td>0</td>\n",
       "      <td>0</td>\n",
       "      <td>1</td>\n",
       "      <td>1</td>\n",
       "      <td>1</td>\n",
       "      <td>1</td>\n",
       "      <td>0</td>\n",
       "      <td>1</td>\n",
       "      <td>NaN</td>\n",
       "      <td>NaN</td>\n",
       "    </tr>\n",
       "    <tr>\n",
       "      <th>1</th>\n",
       "      <td>0</td>\n",
       "      <td>0.0</td>\n",
       "      <td>0.0</td>\n",
       "      <td>0</td>\n",
       "      <td>0</td>\n",
       "      <td>0</td>\n",
       "      <td>0.0</td>\n",
       "      <td>0</td>\n",
       "      <td>0</td>\n",
       "      <td>0</td>\n",
       "      <td>...</td>\n",
       "      <td>0</td>\n",
       "      <td>0</td>\n",
       "      <td>1</td>\n",
       "      <td>1</td>\n",
       "      <td>1</td>\n",
       "      <td>1</td>\n",
       "      <td>0</td>\n",
       "      <td>1</td>\n",
       "      <td>NaN</td>\n",
       "      <td>NaN</td>\n",
       "    </tr>\n",
       "    <tr>\n",
       "      <th>2</th>\n",
       "      <td>0</td>\n",
       "      <td>0.0</td>\n",
       "      <td>0.0</td>\n",
       "      <td>0</td>\n",
       "      <td>0</td>\n",
       "      <td>0</td>\n",
       "      <td>0.0</td>\n",
       "      <td>0</td>\n",
       "      <td>0</td>\n",
       "      <td>0</td>\n",
       "      <td>...</td>\n",
       "      <td>0</td>\n",
       "      <td>0</td>\n",
       "      <td>2</td>\n",
       "      <td>1</td>\n",
       "      <td>NaN</td>\n",
       "      <td>1</td>\n",
       "      <td>0</td>\n",
       "      <td>1</td>\n",
       "      <td>NaN</td>\n",
       "      <td>NaN</td>\n",
       "    </tr>\n",
       "    <tr>\n",
       "      <th>3</th>\n",
       "      <td>1</td>\n",
       "      <td>37.0</td>\n",
       "      <td>37.0</td>\n",
       "      <td>1</td>\n",
       "      <td>0</td>\n",
       "      <td>0</td>\n",
       "      <td>0.0</td>\n",
       "      <td>0</td>\n",
       "      <td>0</td>\n",
       "      <td>0</td>\n",
       "      <td>...</td>\n",
       "      <td>0</td>\n",
       "      <td>0</td>\n",
       "      <td>2</td>\n",
       "      <td>1</td>\n",
       "      <td>2</td>\n",
       "      <td>1</td>\n",
       "      <td>1</td>\n",
       "      <td>1</td>\n",
       "      <td>NaN</td>\n",
       "      <td>NaN</td>\n",
       "    </tr>\n",
       "    <tr>\n",
       "      <th>4</th>\n",
       "      <td>0</td>\n",
       "      <td>0.0</td>\n",
       "      <td>0.0</td>\n",
       "      <td>1</td>\n",
       "      <td>0</td>\n",
       "      <td>0</td>\n",
       "      <td>0.0</td>\n",
       "      <td>0</td>\n",
       "      <td>0</td>\n",
       "      <td>0</td>\n",
       "      <td>...</td>\n",
       "      <td>0</td>\n",
       "      <td>0</td>\n",
       "      <td>2</td>\n",
       "      <td>1</td>\n",
       "      <td>2</td>\n",
       "      <td>1</td>\n",
       "      <td>NaN</td>\n",
       "      <td>1</td>\n",
       "      <td>NaN</td>\n",
       "      <td>NaN</td>\n",
       "    </tr>\n",
       "  </tbody>\n",
       "</table>\n",
       "<p>5 rows × 32 columns</p>\n",
       "</div>"
      ],
      "text/plain": [
       "  Smokes  Smokes (years)  Smokes (packs/year) Hormonal Contraceptives IUD  \\\n",
       "0      0             0.0                  0.0                       0   0   \n",
       "1      0             0.0                  0.0                       0   0   \n",
       "2      0             0.0                  0.0                       0   0   \n",
       "3      1            37.0                 37.0                       1   0   \n",
       "4      0             0.0                  0.0                       1   0   \n",
       "\n",
       "  STDs  STDs (number) STDs:condylomatosis STDs:cervical condylomatosis  \\\n",
       "0    0            0.0                   0                            0   \n",
       "1    0            0.0                   0                            0   \n",
       "2    0            0.0                   0                            0   \n",
       "3    0            0.0                   0                            0   \n",
       "4    0            0.0                   0                            0   \n",
       "\n",
       "  STDs:vaginal condylomatosis                 ...                  Citology  \\\n",
       "0                           0                 ...                         0   \n",
       "1                           0                 ...                         0   \n",
       "2                           0                 ...                         0   \n",
       "3                           0                 ...                         0   \n",
       "4                           0                 ...                         0   \n",
       "\n",
       "  Biopsy Age_bin Number of sexual partners_bin First sexual intercourse_bin  \\\n",
       "0      0       1                             1                            1   \n",
       "1      0       1                             1                            1   \n",
       "2      0       2                             1                          NaN   \n",
       "3      0       2                             1                            2   \n",
       "4      0       2                             1                            2   \n",
       "\n",
       "  Num of pregnancies_bin Hormonal Contraceptives (years)_bin IUD_year_bin  \\\n",
       "0                      1                                   0            1   \n",
       "1                      1                                   0            1   \n",
       "2                      1                                   0            1   \n",
       "3                      1                                   1            1   \n",
       "4                      1                                 NaN            1   \n",
       "\n",
       "  STDs: Time since first diagnosis_bin  STDs: Time since last diagnosis_bin  \n",
       "0                                  NaN                                  NaN  \n",
       "1                                  NaN                                  NaN  \n",
       "2                                  NaN                                  NaN  \n",
       "3                                  NaN                                  NaN  \n",
       "4                                  NaN                                  NaN  \n",
       "\n",
       "[5 rows x 32 columns]"
      ]
     },
     "execution_count": 23,
     "metadata": {},
     "output_type": "execute_result"
    }
   ],
   "source": [
    "def Time_since_first_diagnosis(number):\n",
    "    if (number>=0 and number <= 5):\n",
    "        return 1\n",
    "    elif (number ==0):\n",
    "        return 0\n",
    "    elif (number> 5 and number <= 15):\n",
    "        return 2\n",
    "    elif (number> 15 and number <= 30):\n",
    "        return 3\n",
    "    else:\n",
    "        return \"NaN\"\n",
    "    \n",
    "data2[\"STDs: Time since first diagnosis_bin\"] = data2[\"STDs: Time since first diagnosis\"].apply(Time_since_first_diagnosis)\n",
    "data2 = data2.drop('STDs: Time since first diagnosis', 1)\n",
    "    \n",
    "data2[\"STDs: Time since last diagnosis_bin\"] = data2[\"STDs: Time since last diagnosis\"].apply(Time_since_first_diagnosis)\n",
    "data2 = data2.drop('STDs: Time since last diagnosis', 1)\n",
    "data2.head()"
   ]
  },
  {
   "cell_type": "markdown",
   "metadata": {},
   "source": [
    "### Clean Target Variable into One Column"
   ]
  },
  {
   "cell_type": "code",
   "execution_count": 24,
   "metadata": {
    "collapsed": false
   },
   "outputs": [
    {
     "name": "stderr",
     "output_type": "stream",
     "text": [
      "/Users/cindyqiu/anaconda/lib/python2.7/site-packages/ipykernel/__main__.py:3: SettingWithCopyWarning: \n",
      "A value is trying to be set on a copy of a slice from a DataFrame\n",
      "\n",
      "See the caveats in the documentation: http://pandas.pydata.org/pandas-docs/stable/indexing.html#indexing-view-versus-copy\n",
      "  app.launch_new_instance()\n",
      "/Users/cindyqiu/anaconda/lib/python2.7/site-packages/ipykernel/__main__.py:4: SettingWithCopyWarning: \n",
      "A value is trying to be set on a copy of a slice from a DataFrame\n",
      "\n",
      "See the caveats in the documentation: http://pandas.pydata.org/pandas-docs/stable/indexing.html#indexing-view-versus-copy\n"
     ]
    }
   ],
   "source": [
    "data2['Cervical Cancer'] = data2['Hinselmann'] + data2['Schiller'] + data2['Citology'] + data2['Biopsy'] \n",
    "data2['Cervical Cancer Target'] = \"\"\n",
    "data2['Cervical Cancer Target'][data2['Cervical Cancer'] >0] = 1\n",
    "data2['Cervical Cancer Target'][data2['Cervical Cancer'] == 0] = 0\n",
    "data2 = data2.drop('Hinselmann',1)\n",
    "data2 = data2.drop('Schiller',1)\n",
    "data2 = data2.drop('Citology',1)\n",
    "data2 = data2.drop('Biopsy', 1)\n",
    "data2 = data2.drop('Cervical Cancer', 1)"
   ]
  },
  {
   "cell_type": "code",
   "execution_count": 25,
   "metadata": {
    "collapsed": false
   },
   "outputs": [
    {
     "name": "stdout",
     "output_type": "stream",
     "text": [
      "Cervical Cancer Target\n",
      "0    756\n",
      "1    102\n",
      "dtype: int64\n"
     ]
    }
   ],
   "source": [
    "# class distribution \n",
    "class_counts = data2.groupby('Cervical Cancer Target').size()\n",
    "print(class_counts)\n",
    "# Imbalance class distribution then cannot use Classification Accuracy as the Evaluation Metric "
   ]
  },
  {
   "cell_type": "code",
   "execution_count": 26,
   "metadata": {
    "collapsed": false
   },
   "outputs": [
    {
     "name": "stdout",
     "output_type": "stream",
     "text": [
      "<class 'pandas.core.frame.DataFrame'>\n",
      "RangeIndex: 858 entries, 0 to 857\n",
      "Data columns (total 29 columns):\n",
      "Smokes                                  845 non-null object\n",
      "Smokes (years)                          845 non-null float64\n",
      "Smokes (packs/year)                     845 non-null float64\n",
      "Hormonal Contraceptives                 750 non-null object\n",
      "IUD                                     741 non-null object\n",
      "STDs                                    753 non-null object\n",
      "STDs (number)                           753 non-null float64\n",
      "STDs:condylomatosis                     753 non-null object\n",
      "STDs:cervical condylomatosis            753 non-null object\n",
      "STDs:vaginal condylomatosis             753 non-null object\n",
      "STDs:vulvo-perineal condylomatosis      753 non-null object\n",
      "STDs:syphilis                           753 non-null object\n",
      "STDs:pelvic inflammatory disease        753 non-null object\n",
      "STDs:genital herpes                     753 non-null object\n",
      "STDs:molluscum contagiosum              753 non-null object\n",
      "STDs:AIDS                               753 non-null object\n",
      "STDs:HIV                                753 non-null object\n",
      "STDs:Hepatitis B                        753 non-null object\n",
      "STDs:HPV                                753 non-null object\n",
      "STDs: Number of diagnosis               858 non-null int64\n",
      "Age_bin                                 858 non-null int64\n",
      "Number of sexual partners_bin           858 non-null object\n",
      "First sexual intercourse_bin            858 non-null object\n",
      "Num of pregnancies_bin                  858 non-null object\n",
      "Hormonal Contraceptives (years)_bin     858 non-null object\n",
      "IUD_year_bin                            858 non-null object\n",
      "STDs: Time since first diagnosis_bin    858 non-null object\n",
      "STDs: Time since last diagnosis_bin     858 non-null object\n",
      "Cervical Cancer Target                  858 non-null object\n",
      "dtypes: float64(3), int64(2), object(24)\n",
      "memory usage: 194.5+ KB\n"
     ]
    }
   ],
   "source": [
    "data2.info()"
   ]
  },
  {
   "cell_type": "code",
   "execution_count": 27,
   "metadata": {
    "collapsed": false
   },
   "outputs": [
    {
     "name": "stdout",
     "output_type": "stream",
     "text": [
      "Smokes                                  float64\n",
      "Smokes (years)                          float64\n",
      "Smokes (packs/year)                     float64\n",
      "Hormonal Contraceptives                 float64\n",
      "IUD                                     float64\n",
      "STDs                                    float64\n",
      "STDs (number)                           float64\n",
      "STDs:condylomatosis                     float64\n",
      "STDs:cervical condylomatosis            float64\n",
      "STDs:vaginal condylomatosis             float64\n",
      "STDs:vulvo-perineal condylomatosis      float64\n",
      "STDs:syphilis                           float64\n",
      "STDs:pelvic inflammatory disease        float64\n",
      "STDs:genital herpes                     float64\n",
      "STDs:molluscum contagiosum              float64\n",
      "STDs:AIDS                               float64\n",
      "STDs:HIV                                float64\n",
      "STDs:Hepatitis B                        float64\n",
      "STDs:HPV                                float64\n",
      "STDs: Number of diagnosis               float64\n",
      "Age_bin                                 float64\n",
      "Number of sexual partners_bin           float64\n",
      "First sexual intercourse_bin            float64\n",
      "Num of pregnancies_bin                  float64\n",
      "Hormonal Contraceptives (years)_bin     float64\n",
      "IUD_year_bin                            float64\n",
      "STDs: Time since first diagnosis_bin    float64\n",
      "STDs: Time since last diagnosis_bin     float64\n",
      "Cervical Cancer Target                  float64\n",
      "dtype: object\n"
     ]
    }
   ],
   "source": [
    "# convert data types\n",
    "data3 = data2.astype(float)\n",
    "print(data3.dtypes)"
   ]
  },
  {
   "cell_type": "markdown",
   "metadata": {},
   "source": [
    "## Explore the Data"
   ]
  },
  {
   "cell_type": "code",
   "execution_count": 28,
   "metadata": {
    "collapsed": false
   },
   "outputs": [
    {
     "data": {
      "image/png": "[encoded data removed]",
      "text/plain": [
       "<matplotlib.figure.Figure at 0x111b8d350>"
      ]
     },
     "metadata": {},
     "output_type": "display_data"
    }
   ],
   "source": [
    "import seaborn\n",
    "import matplotlib\n",
    "import matplotlib.pyplot as plt\n",
    "\n",
    "matplotlib.style.use('ggplot')\n",
    "correlations = data3.corr()\n",
    "seaborn.heatmap(correlations)\n",
    "plt.show()"
   ]
  },
  {
   "cell_type": "code",
   "execution_count": 29,
   "metadata": {
    "collapsed": false
   },
   "outputs": [
    {
     "name": "stdout",
     "output_type": "stream",
     "text": [
      "[[ 0.          0.          0.         ...,  1.          1.52112676\n",
      "   1.49295775]\n",
      " [ 0.          0.          0.         ...,  1.          1.52112676\n",
      "   1.49295775]\n",
      " [ 0.          0.          0.         ...,  1.          1.52112676\n",
      "   1.49295775]\n",
      " ..., \n",
      " [ 0.          0.          0.         ...,  1.          1.52112676\n",
      "   1.49295775]\n",
      " [ 0.          0.          0.         ...,  1.          1.52112676\n",
      "   1.49295775]\n",
      " [ 0.          0.          0.         ...,  1.          1.52112676\n",
      "   1.49295775]]\n"
     ]
    }
   ],
   "source": [
    "# impute missing\n",
    "from sklearn import preprocessing\n",
    "from sklearn.preprocessing import Imputer\n",
    "\n",
    "X = data3.values[:,0:28]\n",
    "y = data3.values[:,28]\n",
    "\n",
    "imputer = Imputer(missing_values='NaN', strategy='mean')\n",
    "X = imputer.fit_transform(X)\n",
    "print(X)"
   ]
  },
  {
   "cell_type": "code",
   "execution_count": 30,
   "metadata": {
    "collapsed": false
   },
   "outputs": [
    {
     "name": "stdout",
     "output_type": "stream",
     "text": [
      "Explained Variance: [ 0.82411147  0.08390523]\n",
      "[[  5.65257444e-02   9.10983796e-01   4.07767691e-01  -7.99705718e-04\n",
      "    1.67885493e-03   5.55833926e-03   1.01913472e-02   2.07965153e-03\n",
      "   -4.64175872e-35   1.62623721e-03   2.15711319e-03   4.33757859e-04\n",
      "   -7.75752827e-05  -7.84171211e-05  -7.84581901e-05  -0.00000000e+00\n",
      "    2.86631718e-03   8.08172562e-04   4.54548279e-04   5.30983172e-03\n",
      "    1.78370673e-02   5.07722772e-03  -2.71341003e-04   9.24899773e-03\n",
      "    1.48421043e-03   2.23015305e-03   2.64634328e-03   2.79665676e-03]\n",
      " [ -3.72729024e-02  -4.04903724e-01   9.12277985e-01   5.85259660e-03\n",
      "   -5.12306968e-03  -1.75368236e-02  -3.15373590e-02  -9.46974910e-03\n",
      "    3.34633822e-30  -3.92222245e-03  -9.46064446e-03  -3.12191965e-03\n",
      "    1.31015493e-05   1.97439648e-05   2.33925946e-05   0.00000000e+00\n",
      "   -3.70217295e-03   6.38783032e-04  -2.55567155e-03  -1.48868477e-02\n",
      "   -1.85089367e-02  -8.37020064e-04  -1.11500750e-03  -1.02233096e-02\n",
      "   -1.20408065e-02  -2.20738883e-03  -1.36800284e-03  -1.61215036e-03]]\n"
     ]
    }
   ],
   "source": [
    "# PCA\n",
    "from sklearn.decomposition import PCA\n",
    "\n",
    "pca = PCA(n_components=2)\n",
    "fit = pca.fit(X)\n",
    "# summarize components\n",
    "print(\"Explained Variance: %s\") % fit.explained_variance_ratio_\n",
    "print(fit.components_)\n"
   ]
  },
  {
   "cell_type": "markdown",
   "metadata": {},
   "source": [
    "##### Using RFE find some major features that might contribute to the classification."
   ]
  },
  {
   "cell_type": "code",
   "execution_count": 31,
   "metadata": {
    "collapsed": false
   },
   "outputs": [
    {
     "name": "stdout",
     "output_type": "stream",
     "text": [
      "Num Features: 5\n",
      "Selected Features: [False False False False False False False False False  True False  True\n",
      " False  True False False False False False  True False  True False False\n",
      " False False False False]\n",
      "Feature Ranking: [ 3 21 20 18  2 22 17 11 24  1  6  1 12  1 10 23  4  9  8  1 16  1 15 14 19\n",
      "  7  5 13]\n"
     ]
    }
   ],
   "source": [
    "# Feature Extraction with RFE\n",
    "from sklearn.linear_model import LogisticRegression\n",
    "from sklearn.feature_selection import RFE\n",
    "model = LogisticRegression()\n",
    "rfe = RFE(model, 5)\n",
    "fit = rfe.fit(X, y)\n",
    "print(\"Num Features: %d\") % fit.n_features_\n",
    "print(\"Selected Features: %s\") % fit.support_\n",
    "print(\"Feature Ranking: %s\") % fit.ranking_"
   ]
  },
  {
   "cell_type": "markdown",
   "metadata": {},
   "source": [
    "## Build Models"
   ]
  },
  {
   "cell_type": "code",
   "execution_count": 32,
   "metadata": {
    "collapsed": false
   },
   "outputs": [],
   "source": [
    "# Train test split\n",
    "from sklearn.cross_validation import cross_val_score, cross_val_predict, train_test_split\n",
    "\n",
    "X_train, X_test, y_train, y_test = train_test_split(X, y, test_size = 0.2, random_state=12)"
   ]
  },
  {
   "cell_type": "code",
   "execution_count": 33,
   "metadata": {
    "collapsed": false
   },
   "outputs": [
    {
     "name": "stdout",
     "output_type": "stream",
     "text": [
      "LR: 0.526355 (0.085194)\n",
      "LASSO: 0.500000 (0.000000)\n",
      "Ridge: 0.537080 (0.100383)\n",
      "LDA: 0.596550 (0.103672)\n",
      "NB: 0.578763 (0.106909)\n",
      "CART: 0.521430 (0.074696)\n"
     ]
    },
    {
     "name": "stderr",
     "output_type": "stream",
     "text": [
      "/Users/cindyqiu/anaconda/lib/python2.7/site-packages/sklearn/discriminant_analysis.py:387: UserWarning: Variables are collinear.\n",
      "  warnings.warn(\"Variables are collinear.\")\n"
     ]
    },
    {
     "name": "stdout",
     "output_type": "stream",
     "text": [
      "KNeighborsClassifier: 0.493817 (0.101834)\n",
      "GradientBoostingClassifier: 0.568655 (0.077811)\n",
      "AdaBoostClassifier: 0.580736 (0.105668)\n",
      "RandomForestClassifier: 0.517889 (0.090726)\n",
      "ExtraTreesClassifier: 0.498178 (0.091923)\n",
      "SVC: 0.519010 (0.067026)\n"
     ]
    }
   ],
   "source": [
    "from sklearn.linear_model import Lasso, Ridge  \n",
    "from sklearn.ensemble import RandomForestClassifier\n",
    "from sklearn.tree import DecisionTreeClassifier\n",
    "from sklearn.svm import SVC\n",
    "from sklearn.model_selection import KFold\n",
    "from sklearn.model_selection import GridSearchCV\n",
    "from sklearn.ensemble import RandomForestClassifier\n",
    "from sklearn.neighbors import KNeighborsClassifier\n",
    "from sklearn.ensemble import GradientBoostingClassifier\n",
    "from sklearn.ensemble import AdaBoostClassifier\n",
    "from sklearn.ensemble import ExtraTreesClassifier\n",
    "from sklearn import cross_validation\n",
    "from sklearn.discriminant_analysis import LinearDiscriminantAnalysis\n",
    "from sklearn.naive_bayes import GaussianNB\n",
    "\n",
    "# Test options and evaluation metric\n",
    "num_folds = 10\n",
    "num_instances = len(X_train) \n",
    "seed = 12\n",
    "scoring = 'roc_auc'\n",
    "\n",
    "# Spot-Check Algorithms\n",
    "models = []\n",
    "models.append(('LR', LogisticRegression()))\n",
    "models.append(('LASSO', Lasso())) \n",
    "models.append(('Ridge', Ridge())) \n",
    "models.append(('LDA', LinearDiscriminantAnalysis()))\n",
    "models.append(('NB', GaussianNB()))\n",
    "models.append(('CART', DecisionTreeClassifier())) \n",
    "models.append(('KNeighborsClassifier', KNeighborsClassifier())) \n",
    "#models.append(('XGBClassifier', xgb.XGBClassifier()))\n",
    "models.append(('GradientBoostingClassifier', GradientBoostingClassifier()))\n",
    "models.append(('AdaBoostClassifier', AdaBoostClassifier()))\n",
    "models.append(('RandomForestClassifier', RandomForestClassifier()))\n",
    "models.append(('ExtraTreesClassifier', ExtraTreesClassifier()))\n",
    "models.append(('SVC', SVC()))\n",
    "\n",
    "# evaluate each model in turn\n",
    "results = []\n",
    "names = []\n",
    "for name, model in models:\n",
    "    kfold = cross_validation.KFold(n=num_instances, n_folds=num_folds, random_state=seed)\n",
    "    cv_results = cross_validation.cross_val_score(model, X_train, y_train, cv=kfold,\n",
    "        scoring=scoring)\n",
    "    results.append(cv_results)\n",
    "    names.append(name)\n",
    "    model.fit(X_train, y_train)\n",
    "    predicted = model.predict(X_test)\n",
    "    msg = \"%s: %f (%f)\" % (name, cv_results.mean(), cv_results.std())\n",
    "    print(msg)"
   ]
  },
  {
   "cell_type": "code",
   "execution_count": 34,
   "metadata": {
    "collapsed": true
   },
   "outputs": [],
   "source": [
    "# Compare Algorithms\n",
    "def plot_model_score_distribution(results, names):\n",
    "    ymin = .1\n",
    "    ymax = .95\n",
    "    fig = plt.figure(figsize=(25,10)) \n",
    "    fig.suptitle('Algorithm Comparison') \n",
    "    ax = fig.add_subplot(111) \n",
    "    plt.boxplot(results) \n",
    "    ax.set_ylim([ymin,ymax])\n",
    "    ax.set_xticklabels(names)\n",
    "    plt.show()"
   ]
  },
  {
   "cell_type": "code",
   "execution_count": 35,
   "metadata": {
    "collapsed": false
   },
   "outputs": [
    {
     "data": {
      "image/png": "[encoded data removed]",
      "text/plain": [
       "<matplotlib.figure.Figure at 0x117f86ad0>"
      ]
     },
     "metadata": {},
     "output_type": "display_data"
    }
   ],
   "source": [
    "plot_model_score_distribution(results, names)"
   ]
  },
  {
   "cell_type": "markdown",
   "metadata": {},
   "source": [
    "### Define functions to optimize, fit and evaluate models"
   ]
  },
  {
   "cell_type": "code",
   "execution_count": 36,
   "metadata": {
    "collapsed": false
   },
   "outputs": [],
   "source": [
    "from sklearn.grid_search import GridSearchCV\n",
    "# Define grid search function to optimize F1 score. \n",
    "# Why F1 score, not accuracy score? Because the classes are unbalanced,\n",
    "\n",
    "def gridsearch(model, params):\n",
    "    gs = GridSearchCV(model, params, scoring='f1_weighted', n_jobs=-1)\n",
    "    gs.fit(X_train, y_train)\n",
    "    print 'best parameters: ', gs.best_params_\n",
    "    print 'cross validation F1 score on trainset: ', gs.best_score_\n",
    "    print 'F1 score on testset: ', gs.score(X_test, y_test)"
   ]
  },
  {
   "cell_type": "code",
   "execution_count": 37,
   "metadata": {
    "collapsed": true
   },
   "outputs": [],
   "source": [
    "# Define function to check the accuracy score and make prediction\n",
    "def validation(model):\n",
    "    model.fit(X_train, y_train)\n",
    "    y_pred = model.predict(X_test)\n",
    "    print 'accuracy score on testset: ', model.score(X_test, y_test)\n",
    "    return y_pred"
   ]
  },
  {
   "cell_type": "code",
   "execution_count": 38,
   "metadata": {
    "collapsed": true
   },
   "outputs": [],
   "source": [
    "# Define function to produce ROC curve\n",
    "def plot_roc(model):\n",
    "    y_score = model.predict_proba(X_test)\n",
    "    fpr = {}\n",
    "    tpr = {}\n",
    "    roc_auc = {}\n",
    "    labels = []\n",
    "    plt.figure(figsize=[11,9])\n",
    "    plt.plot([0, 1], [0, 1], 'k--')\n",
    "    plt.xlim([0.0, 1.0])\n",
    "    plt.ylim([0.0, 1.05])\n",
    "    plt.xlabel('False Positive Rate', fontsize=14)\n",
    "    plt.ylabel('True Positive Rate', fontsize=14)\n",
    "    plt.title('Cervical Cancer Risk Factor', fontsize=14)\n",
    "    for i in range(y_score.shape[1]):\n",
    "        risk = model.classes_[i]\n",
    "        fpr[i], tpr[i], _ = roc_curve(y_test, y_score[:,i], pos_label=risk)\n",
    "        roc_auc[i] = auc(fpr[i], tpr[i])\n",
    "        labels.append(risk)\n",
    "        plt.plot(fpr[i], tpr[i], label='roc for {} (area={})'.format(risk, roc_auc[i]), linewidth=4)\n",
    "    plt.legend(loc=\"lower right\")\n",
    "    plt.show()"
   ]
  },
  {
   "cell_type": "markdown",
   "metadata": {},
   "source": [
    "### Random Forest"
   ]
  },
  {
   "cell_type": "code",
   "execution_count": 39,
   "metadata": {
    "collapsed": false
   },
   "outputs": [
    {
     "name": "stderr",
     "output_type": "stream",
     "text": [
      "/Users/cindyqiu/anaconda/lib/python2.7/site-packages/sklearn/metrics/classification.py:1113: UndefinedMetricWarning: F-score is ill-defined and being set to 0.0 in labels with no predicted samples.\n",
      "  'precision', 'predicted', average, warn_for)\n",
      "/Users/cindyqiu/anaconda/lib/python2.7/site-packages/sklearn/metrics/classification.py:1113: UndefinedMetricWarning: F-score is ill-defined and being set to 0.0 in labels with no predicted samples.\n",
      "  'precision', 'predicted', average, warn_for)\n",
      "/Users/cindyqiu/anaconda/lib/python2.7/site-packages/sklearn/metrics/classification.py:1113: UndefinedMetricWarning: F-score is ill-defined and being set to 0.0 in labels with no predicted samples.\n",
      "  'precision', 'predicted', average, warn_for)\n",
      "/Users/cindyqiu/anaconda/lib/python2.7/site-packages/sklearn/metrics/classification.py:1113: UndefinedMetricWarning: F-score is ill-defined and being set to 0.0 in labels with no predicted samples.\n",
      "  'precision', 'predicted', average, warn_for)\n"
     ]
    },
    {
     "name": "stdout",
     "output_type": "stream",
     "text": [
      "best parameters:  {'max_features': 'auto', 'n_estimators': 10, 'criterion': 'gini', 'max_depth': 10}\n",
      "cross validation F1 score on trainset:  0.841335845787\n",
      "F1 score on testset:  0.812509027878\n"
     ]
    },
    {
     "name": "stderr",
     "output_type": "stream",
     "text": [
      "/Users/cindyqiu/anaconda/lib/python2.7/site-packages/sklearn/grid_search.py:438: ChangedBehaviorWarning: The long-standing behavior to use the estimator's score function in GridSearchCV.score has changed. The scoring parameter is now used.\n",
      "  ChangedBehaviorWarning)\n",
      "/Users/cindyqiu/anaconda/lib/python2.7/site-packages/sklearn/metrics/classification.py:1113: UndefinedMetricWarning: F-score is ill-defined and being set to 0.0 in labels with no predicted samples.\n",
      "  'precision', 'predicted', average, warn_for)\n"
     ]
    }
   ],
   "source": [
    "# Grid search to find the best parameters\n",
    "seed = 12\n",
    "rf = RandomForestClassifier(random_state= seed)\n",
    "rf_params = {'n_estimators': [5,10,15,20,30], 'criterion': ['gini', 'entropy'], \n",
    "            'max_features': ['auto', None], 'max_depth': [3,5,10,None]}\n",
    "gridsearch(rf, rf_params)"
   ]
  },
  {
   "cell_type": "code",
   "execution_count": 40,
   "metadata": {
    "collapsed": false
   },
   "outputs": [
    {
     "name": "stdout",
     "output_type": "stream",
     "text": [
      "accuracy score on testset:  0.860465116279\n"
     ]
    }
   ],
   "source": [
    "# Use the best parameters to test on testset\n",
    "rf = RandomForestClassifier(max_features='auto', n_estimators=10, criterion='gini', max_depth=10)\n",
    "rf_pred = validation(rf)"
   ]
  },
  {
   "cell_type": "code",
   "execution_count": 41,
   "metadata": {
    "collapsed": false
   },
   "outputs": [
    {
     "data": {
      "image/png": "[encoded data removed]",
      "text/plain": [
       "<matplotlib.figure.Figure at 0x117fe3a10>"
      ]
     },
     "metadata": {},
     "output_type": "display_data"
    }
   ],
   "source": [
    "# ROC curve for Random Forest\n",
    "plot_roc(rf)"
   ]
  },
  {
   "cell_type": "markdown",
   "metadata": {},
   "source": [
    "### Gradient Boosting"
   ]
  },
  {
   "cell_type": "code",
   "execution_count": 42,
   "metadata": {
    "collapsed": false
   },
   "outputs": [
    {
     "name": "stdout",
     "output_type": "stream",
     "text": [
      "best parameters:  {'max_features': 'auto', 'n_estimators': 50, 'max_depth': 10}\n",
      "cross validation F1 score on trainset:  0.828490064395\n",
      "F1 score on testset:  0.816935762603\n"
     ]
    }
   ],
   "source": [
    "gbc = GradientBoostingClassifier(random_state = seed)\n",
    "gbc_params = {'n_estimators': [50, 100, 150, 200, 300], 'max_depth': [1,3,5,10,None], 'max_features': ['auto', None]}\n",
    "gridsearch(gbc, gbc_params)"
   ]
  },
  {
   "cell_type": "code",
   "execution_count": 43,
   "metadata": {
    "collapsed": false
   },
   "outputs": [
    {
     "name": "stdout",
     "output_type": "stream",
     "text": [
      "accuracy score on testset:  0.848837209302\n"
     ]
    }
   ],
   "source": [
    "gbc = GradientBoostingClassifier(max_features='auto', n_estimators=50, max_depth=10)\n",
    "gbc_pred = validation(gbc)"
   ]
  },
  {
   "cell_type": "code",
   "execution_count": 44,
   "metadata": {
    "collapsed": false
   },
   "outputs": [
    {
     "data": {
      "image/png": "[encoded data removed]",
      "text/plain": [
       "<matplotlib.figure.Figure at 0x111bc9c50>"
      ]
     },
     "metadata": {},
     "output_type": "display_data"
    }
   ],
   "source": [
    "plot_roc(gbc)"
   ]
  },
  {
   "cell_type": "markdown",
   "metadata": {},
   "source": [
    "### KNN"
   ]
  },
  {
   "cell_type": "code",
   "execution_count": 45,
   "metadata": {
    "collapsed": false
   },
   "outputs": [
    {
     "name": "stdout",
     "output_type": "stream",
     "text": [
      "best parameters:  {'n_neighbors': 7, 'weights': 'distance'}\n",
      "cross validation F1 score on trainset:  0.831643391064\n",
      "F1 score on testset:  0.803747175038\n"
     ]
    }
   ],
   "source": [
    "knn = KNeighborsClassifier()\n",
    "knn_params={'n_neighbors': range(3, 80), 'weights': ['uniform', 'distance']}\n",
    "gridsearch(knn, knn_params)"
   ]
  },
  {
   "cell_type": "code",
   "execution_count": 46,
   "metadata": {
    "collapsed": false
   },
   "outputs": [
    {
     "name": "stdout",
     "output_type": "stream",
     "text": [
      "accuracy score on testset:  0.872093023256\n"
     ]
    }
   ],
   "source": [
    "knn = KNeighborsClassifier(n_neighbors=6, weights = 'uniform')\n",
    "knn_pred = validation(knn)"
   ]
  },
  {
   "cell_type": "code",
   "execution_count": 47,
   "metadata": {
    "collapsed": false
   },
   "outputs": [
    {
     "data": {
      "image/png": "[encoded data removed]",
      "text/plain": [
       "<matplotlib.figure.Figure at 0x1155b7950>"
      ]
     },
     "metadata": {},
     "output_type": "display_data"
    }
   ],
   "source": [
    "plot_roc(knn)"
   ]
  },
  {
   "cell_type": "markdown",
   "metadata": {},
   "source": [
    "### Naive Bayes (Gaussian)"
   ]
  },
  {
   "cell_type": "code",
   "execution_count": 48,
   "metadata": {
    "collapsed": false
   },
   "outputs": [
    {
     "name": "stdout",
     "output_type": "stream",
     "text": [
      "accuracy score on testset:  0.296511627907\n"
     ]
    },
    {
     "data": {
      "image/png": "[encoded data removed]",
      "text/plain": [
       "<matplotlib.figure.Figure at 0x117f6ba10>"
      ]
     },
     "metadata": {},
     "output_type": "display_data"
    }
   ],
   "source": [
    "gnb = GaussianNB()\n",
    "gnb_pred = validation(gnb)\n",
    "plot_roc(gnb)"
   ]
  },
  {
   "cell_type": "markdown",
   "metadata": {},
   "source": [
    "### SVM"
   ]
  },
  {
   "cell_type": "code",
   "execution_count": 49,
   "metadata": {
    "collapsed": false
   },
   "outputs": [
    {
     "name": "stdout",
     "output_type": "stream",
     "text": [
      "best parameters:  {'C': 10.0, 'gamma': 1.0}\n",
      "cross validation F1 score on trainset:  0.838096630344\n",
      "F1 score on testset:  0.809606607259\n"
     ]
    }
   ],
   "source": [
    "sv = svm.SVC(kernel='rbf', random_state = seed)\n",
    "sv_params = {'C': 10.**np.arange(-2,3), 'gamma': 10.**np.arange(-5,2)}\n",
    "gridsearch(sv, sv_params)"
   ]
  },
  {
   "cell_type": "code",
   "execution_count": 50,
   "metadata": {
    "collapsed": false
   },
   "outputs": [
    {
     "name": "stdout",
     "output_type": "stream",
     "text": [
      "accuracy score on testset:  0.744186046512\n"
     ]
    }
   ],
   "source": [
    "sv = svm.SVC(kernel='rbf', C=100, gamma=1.0, probability=True, class_weight='balanced')\n",
    "sv_pred = validation(sv)"
   ]
  },
  {
   "cell_type": "code",
   "execution_count": 51,
   "metadata": {
    "collapsed": false
   },
   "outputs": [
    {
     "data": {
      "image/png": "[encoded data removed]",
      "text/plain": [
       "<matplotlib.figure.Figure at 0x111be3590>"
      ]
     },
     "metadata": {},
     "output_type": "display_data"
    }
   ],
   "source": [
    "plot_roc(sv)"
   ]
  }
 ],
 "metadata": {
  "kernelspec": {
   "display_name": "Python 2",
   "language": "python",
   "name": "python2"
  },
  "language_info": {
   "codemirror_mode": {
    "name": "ipython",
    "version": 2
   },
   "file_extension": ".py",
   "mimetype": "text/x-python",
   "name": "python",
   "nbconvert_exporter": "python",
   "pygments_lexer": "ipython2",
   "version": "2.7.13"
  }
 },
 "nbformat": 4,
 "nbformat_minor": 2
}
